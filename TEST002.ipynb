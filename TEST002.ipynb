{
 "cells": [
  {
   "cell_type": "markdown",
   "id": "1fc302ff-77fa-4176-b5b0-95f5dcccc95b",
   "metadata": {},
   "source": [
    "# LIBRARIES"
   ]
  },
  {
   "cell_type": "code",
   "execution_count": 1,
   "id": "fb58bbc6-f28a-4e65-8798-8f4a9152ba2e",
   "metadata": {},
   "outputs": [
    {
     "name": "stderr",
     "output_type": "stream",
     "text": [
      "── \u001b[1mAttaching core tidyverse packages\u001b[22m ──────────────────────── tidyverse 2.0.0 ──\n",
      "\u001b[32m✔\u001b[39m \u001b[34mdplyr    \u001b[39m 1.1.4     \u001b[32m✔\u001b[39m \u001b[34mreadr    \u001b[39m 2.1.5\n",
      "\u001b[32m✔\u001b[39m \u001b[34mforcats  \u001b[39m 1.0.0     \u001b[32m✔\u001b[39m \u001b[34mstringr  \u001b[39m 1.5.1\n",
      "\u001b[32m✔\u001b[39m \u001b[34mggplot2  \u001b[39m 3.5.1     \u001b[32m✔\u001b[39m \u001b[34mtibble   \u001b[39m 3.2.1\n",
      "\u001b[32m✔\u001b[39m \u001b[34mlubridate\u001b[39m 1.9.3     \u001b[32m✔\u001b[39m \u001b[34mtidyr    \u001b[39m 1.3.1\n",
      "\u001b[32m✔\u001b[39m \u001b[34mpurrr    \u001b[39m 1.0.2     \n",
      "── \u001b[1mConflicts\u001b[22m ────────────────────────────────────────── tidyverse_conflicts() ──\n",
      "\u001b[31m✖\u001b[39m \u001b[34mdplyr\u001b[39m::\u001b[32mfilter()\u001b[39m masks \u001b[34mstats\u001b[39m::filter()\n",
      "\u001b[31m✖\u001b[39m \u001b[34mdplyr\u001b[39m::\u001b[32mlag()\u001b[39m    masks \u001b[34mstats\u001b[39m::lag()\n",
      "\u001b[36mℹ\u001b[39m Use the conflicted package (\u001b[3m\u001b[34m<http://conflicted.r-lib.org/>\u001b[39m\u001b[23m) to force all conflicts to become errors\n",
      "\n",
      "Attaching package: ‘MASS’\n",
      "\n",
      "\n",
      "The following object is masked from ‘package:dplyr’:\n",
      "\n",
      "    select\n",
      "\n",
      "\n",
      "Loading required package: carData\n",
      "\n",
      "\n",
      "Attaching package: ‘car’\n",
      "\n",
      "\n",
      "The following object is masked from ‘package:dplyr’:\n",
      "\n",
      "    recode\n",
      "\n",
      "\n",
      "The following object is masked from ‘package:purrr’:\n",
      "\n",
      "    some\n",
      "\n",
      "\n"
     ]
    },
    {
     "name": "stdout",
     "output_type": "stream",
     "text": [
      "[1] \"LIBRARIES LOADED\"\n"
     ]
    }
   ],
   "source": [
    "library(tidyverse)\n",
    "library(repr)\n",
    "library(broom)\n",
    "library(leaps)\n",
    "library(moderndive)\n",
    "library(MASS)\n",
    "library(car)\n",
    "library(rsample)\n",
    "print(\"LIBRARIES LOADED\")"
   ]
  },
  {
   "cell_type": "markdown",
   "id": "d4da223c-6a6f-485b-b341-237e011a9f3f",
   "metadata": {},
   "source": [
    "# DATA AND TIDYING"
   ]
  },
  {
   "cell_type": "code",
   "execution_count": 2,
   "id": "57092939-7689-4749-9e8c-1a20bd9e5494",
   "metadata": {},
   "outputs": [
    {
     "data": {
      "text/html": [
       "<table class=\"dataframe\">\n",
       "<caption>A data.frame: 6 × 13</caption>\n",
       "<thead>\n",
       "\t<tr><th></th><th scope=col>Person.ID</th><th scope=col>Gender</th><th scope=col>Age</th><th scope=col>Occupation</th><th scope=col>Sleep.Duration</th><th scope=col>Quality.of.Sleep</th><th scope=col>Physical.Activity.Level</th><th scope=col>Stress.Level</th><th scope=col>BMI.Category</th><th scope=col>Blood.Pressure</th><th scope=col>Heart.Rate</th><th scope=col>Daily.Steps</th><th scope=col>Sleep.Disorder</th></tr>\n",
       "\t<tr><th></th><th scope=col>&lt;int&gt;</th><th scope=col>&lt;chr&gt;</th><th scope=col>&lt;int&gt;</th><th scope=col>&lt;chr&gt;</th><th scope=col>&lt;dbl&gt;</th><th scope=col>&lt;int&gt;</th><th scope=col>&lt;int&gt;</th><th scope=col>&lt;int&gt;</th><th scope=col>&lt;chr&gt;</th><th scope=col>&lt;chr&gt;</th><th scope=col>&lt;int&gt;</th><th scope=col>&lt;int&gt;</th><th scope=col>&lt;chr&gt;</th></tr>\n",
       "</thead>\n",
       "<tbody>\n",
       "\t<tr><th scope=row>1</th><td>1</td><td>Male</td><td>27</td><td>Software Engineer   </td><td>6.1</td><td>6</td><td>42</td><td>6</td><td>Overweight</td><td>126/83</td><td>77</td><td> 4200</td><td>None       </td></tr>\n",
       "\t<tr><th scope=row>2</th><td>2</td><td>Male</td><td>28</td><td>Doctor              </td><td>6.2</td><td>6</td><td>60</td><td>8</td><td>Normal    </td><td>125/80</td><td>75</td><td>10000</td><td>None       </td></tr>\n",
       "\t<tr><th scope=row>3</th><td>3</td><td>Male</td><td>28</td><td>Doctor              </td><td>6.2</td><td>6</td><td>60</td><td>8</td><td>Normal    </td><td>125/80</td><td>75</td><td>10000</td><td>None       </td></tr>\n",
       "\t<tr><th scope=row>4</th><td>4</td><td>Male</td><td>28</td><td>Sales Representative</td><td>5.9</td><td>4</td><td>30</td><td>8</td><td>Obese     </td><td>140/90</td><td>85</td><td> 3000</td><td>Sleep Apnea</td></tr>\n",
       "\t<tr><th scope=row>5</th><td>5</td><td>Male</td><td>28</td><td>Sales Representative</td><td>5.9</td><td>4</td><td>30</td><td>8</td><td>Obese     </td><td>140/90</td><td>85</td><td> 3000</td><td>Sleep Apnea</td></tr>\n",
       "\t<tr><th scope=row>6</th><td>6</td><td>Male</td><td>28</td><td>Software Engineer   </td><td>5.9</td><td>4</td><td>30</td><td>8</td><td>Obese     </td><td>140/90</td><td>85</td><td> 3000</td><td>Insomnia   </td></tr>\n",
       "</tbody>\n",
       "</table>\n"
      ],
      "text/latex": [
       "A data.frame: 6 × 13\n",
       "\\begin{tabular}{r|lllllllllllll}\n",
       "  & Person.ID & Gender & Age & Occupation & Sleep.Duration & Quality.of.Sleep & Physical.Activity.Level & Stress.Level & BMI.Category & Blood.Pressure & Heart.Rate & Daily.Steps & Sleep.Disorder\\\\\n",
       "  & <int> & <chr> & <int> & <chr> & <dbl> & <int> & <int> & <int> & <chr> & <chr> & <int> & <int> & <chr>\\\\\n",
       "\\hline\n",
       "\t1 & 1 & Male & 27 & Software Engineer    & 6.1 & 6 & 42 & 6 & Overweight & 126/83 & 77 &  4200 & None       \\\\\n",
       "\t2 & 2 & Male & 28 & Doctor               & 6.2 & 6 & 60 & 8 & Normal     & 125/80 & 75 & 10000 & None       \\\\\n",
       "\t3 & 3 & Male & 28 & Doctor               & 6.2 & 6 & 60 & 8 & Normal     & 125/80 & 75 & 10000 & None       \\\\\n",
       "\t4 & 4 & Male & 28 & Sales Representative & 5.9 & 4 & 30 & 8 & Obese      & 140/90 & 85 &  3000 & Sleep Apnea\\\\\n",
       "\t5 & 5 & Male & 28 & Sales Representative & 5.9 & 4 & 30 & 8 & Obese      & 140/90 & 85 &  3000 & Sleep Apnea\\\\\n",
       "\t6 & 6 & Male & 28 & Software Engineer    & 5.9 & 4 & 30 & 8 & Obese      & 140/90 & 85 &  3000 & Insomnia   \\\\\n",
       "\\end{tabular}\n"
      ],
      "text/markdown": [
       "\n",
       "A data.frame: 6 × 13\n",
       "\n",
       "| <!--/--> | Person.ID &lt;int&gt; | Gender &lt;chr&gt; | Age &lt;int&gt; | Occupation &lt;chr&gt; | Sleep.Duration &lt;dbl&gt; | Quality.of.Sleep &lt;int&gt; | Physical.Activity.Level &lt;int&gt; | Stress.Level &lt;int&gt; | BMI.Category &lt;chr&gt; | Blood.Pressure &lt;chr&gt; | Heart.Rate &lt;int&gt; | Daily.Steps &lt;int&gt; | Sleep.Disorder &lt;chr&gt; |\n",
       "|---|---|---|---|---|---|---|---|---|---|---|---|---|---|\n",
       "| 1 | 1 | Male | 27 | Software Engineer    | 6.1 | 6 | 42 | 6 | Overweight | 126/83 | 77 |  4200 | None        |\n",
       "| 2 | 2 | Male | 28 | Doctor               | 6.2 | 6 | 60 | 8 | Normal     | 125/80 | 75 | 10000 | None        |\n",
       "| 3 | 3 | Male | 28 | Doctor               | 6.2 | 6 | 60 | 8 | Normal     | 125/80 | 75 | 10000 | None        |\n",
       "| 4 | 4 | Male | 28 | Sales Representative | 5.9 | 4 | 30 | 8 | Obese      | 140/90 | 85 |  3000 | Sleep Apnea |\n",
       "| 5 | 5 | Male | 28 | Sales Representative | 5.9 | 4 | 30 | 8 | Obese      | 140/90 | 85 |  3000 | Sleep Apnea |\n",
       "| 6 | 6 | Male | 28 | Software Engineer    | 5.9 | 4 | 30 | 8 | Obese      | 140/90 | 85 |  3000 | Insomnia    |\n",
       "\n"
      ],
      "text/plain": [
       "  Person.ID Gender Age Occupation           Sleep.Duration Quality.of.Sleep\n",
       "1 1         Male   27  Software Engineer    6.1            6               \n",
       "2 2         Male   28  Doctor               6.2            6               \n",
       "3 3         Male   28  Doctor               6.2            6               \n",
       "4 4         Male   28  Sales Representative 5.9            4               \n",
       "5 5         Male   28  Sales Representative 5.9            4               \n",
       "6 6         Male   28  Software Engineer    5.9            4               \n",
       "  Physical.Activity.Level Stress.Level BMI.Category Blood.Pressure Heart.Rate\n",
       "1 42                      6            Overweight   126/83         77        \n",
       "2 60                      8            Normal       125/80         75        \n",
       "3 60                      8            Normal       125/80         75        \n",
       "4 30                      8            Obese        140/90         85        \n",
       "5 30                      8            Obese        140/90         85        \n",
       "6 30                      8            Obese        140/90         85        \n",
       "  Daily.Steps Sleep.Disorder\n",
       "1  4200       None          \n",
       "2 10000       None          \n",
       "3 10000       None          \n",
       "4  3000       Sleep Apnea   \n",
       "5  3000       Sleep Apnea   \n",
       "6  3000       Insomnia      "
      ]
     },
     "metadata": {},
     "output_type": "display_data"
    }
   ],
   "source": [
    "file_url <- \"https://drive.google.com/uc?export=download&id=1ZjZvLl5dUzHEF8ouimlTg8t0MorhjzVA\"\n",
    "sleep_data <- read.csv(file_url)\n",
    "head(sleep_data)\n",
    "set.seed(114514) # SEED, DO NOT CHANGE"
   ]
  },
  {
   "cell_type": "code",
   "execution_count": 3,
   "id": "0eb665ad-63a4-4846-a374-bc70db8a9f78",
   "metadata": {},
   "outputs": [
    {
     "data": {
      "text/html": [
       "<table class=\"dataframe\">\n",
       "<caption>A data.frame: 6 × 8</caption>\n",
       "<thead>\n",
       "\t<tr><th></th><th scope=col>Age</th><th scope=col>Occupation</th><th scope=col>Sleep_Duration</th><th scope=col>Quality_of_Sleep</th><th scope=col>Physical_Activity_Level</th><th scope=col>Stress_Level</th><th scope=col>BMI_Category</th><th scope=col>Sleep_Disorder</th></tr>\n",
       "\t<tr><th></th><th scope=col>&lt;int&gt;</th><th scope=col>&lt;fct&gt;</th><th scope=col>&lt;dbl&gt;</th><th scope=col>&lt;int&gt;</th><th scope=col>&lt;int&gt;</th><th scope=col>&lt;int&gt;</th><th scope=col>&lt;fct&gt;</th><th scope=col>&lt;fct&gt;</th></tr>\n",
       "</thead>\n",
       "<tbody>\n",
       "\t<tr><th scope=row>1</th><td>27</td><td>Software Engineer   </td><td>6.1</td><td>6</td><td>42</td><td>6</td><td>Overweight</td><td>False</td></tr>\n",
       "\t<tr><th scope=row>2</th><td>28</td><td>Doctor              </td><td>6.2</td><td>6</td><td>60</td><td>8</td><td>Normal    </td><td>False</td></tr>\n",
       "\t<tr><th scope=row>3</th><td>28</td><td>Doctor              </td><td>6.2</td><td>6</td><td>60</td><td>8</td><td>Normal    </td><td>False</td></tr>\n",
       "\t<tr><th scope=row>4</th><td>28</td><td>Sales Representative</td><td>5.9</td><td>4</td><td>30</td><td>8</td><td>Obese     </td><td>True </td></tr>\n",
       "\t<tr><th scope=row>5</th><td>28</td><td>Sales Representative</td><td>5.9</td><td>4</td><td>30</td><td>8</td><td>Obese     </td><td>True </td></tr>\n",
       "\t<tr><th scope=row>6</th><td>28</td><td>Software Engineer   </td><td>5.9</td><td>4</td><td>30</td><td>8</td><td>Obese     </td><td>True </td></tr>\n",
       "</tbody>\n",
       "</table>\n"
      ],
      "text/latex": [
       "A data.frame: 6 × 8\n",
       "\\begin{tabular}{r|llllllll}\n",
       "  & Age & Occupation & Sleep\\_Duration & Quality\\_of\\_Sleep & Physical\\_Activity\\_Level & Stress\\_Level & BMI\\_Category & Sleep\\_Disorder\\\\\n",
       "  & <int> & <fct> & <dbl> & <int> & <int> & <int> & <fct> & <fct>\\\\\n",
       "\\hline\n",
       "\t1 & 27 & Software Engineer    & 6.1 & 6 & 42 & 6 & Overweight & False\\\\\n",
       "\t2 & 28 & Doctor               & 6.2 & 6 & 60 & 8 & Normal     & False\\\\\n",
       "\t3 & 28 & Doctor               & 6.2 & 6 & 60 & 8 & Normal     & False\\\\\n",
       "\t4 & 28 & Sales Representative & 5.9 & 4 & 30 & 8 & Obese      & True \\\\\n",
       "\t5 & 28 & Sales Representative & 5.9 & 4 & 30 & 8 & Obese      & True \\\\\n",
       "\t6 & 28 & Software Engineer    & 5.9 & 4 & 30 & 8 & Obese      & True \\\\\n",
       "\\end{tabular}\n"
      ],
      "text/markdown": [
       "\n",
       "A data.frame: 6 × 8\n",
       "\n",
       "| <!--/--> | Age &lt;int&gt; | Occupation &lt;fct&gt; | Sleep_Duration &lt;dbl&gt; | Quality_of_Sleep &lt;int&gt; | Physical_Activity_Level &lt;int&gt; | Stress_Level &lt;int&gt; | BMI_Category &lt;fct&gt; | Sleep_Disorder &lt;fct&gt; |\n",
       "|---|---|---|---|---|---|---|---|---|\n",
       "| 1 | 27 | Software Engineer    | 6.1 | 6 | 42 | 6 | Overweight | False |\n",
       "| 2 | 28 | Doctor               | 6.2 | 6 | 60 | 8 | Normal     | False |\n",
       "| 3 | 28 | Doctor               | 6.2 | 6 | 60 | 8 | Normal     | False |\n",
       "| 4 | 28 | Sales Representative | 5.9 | 4 | 30 | 8 | Obese      | True  |\n",
       "| 5 | 28 | Sales Representative | 5.9 | 4 | 30 | 8 | Obese      | True  |\n",
       "| 6 | 28 | Software Engineer    | 5.9 | 4 | 30 | 8 | Obese      | True  |\n",
       "\n"
      ],
      "text/plain": [
       "  Age Occupation           Sleep_Duration Quality_of_Sleep\n",
       "1 27  Software Engineer    6.1            6               \n",
       "2 28  Doctor               6.2            6               \n",
       "3 28  Doctor               6.2            6               \n",
       "4 28  Sales Representative 5.9            4               \n",
       "5 28  Sales Representative 5.9            4               \n",
       "6 28  Software Engineer    5.9            4               \n",
       "  Physical_Activity_Level Stress_Level BMI_Category Sleep_Disorder\n",
       "1 42                      6            Overweight   False         \n",
       "2 60                      8            Normal       False         \n",
       "3 60                      8            Normal       False         \n",
       "4 30                      8            Obese        True          \n",
       "5 30                      8            Obese        True          \n",
       "6 30                      8            Obese        True          "
      ]
     },
     "metadata": {},
     "output_type": "display_data"
    },
    {
     "data": {
      "text/html": [
       "374"
      ],
      "text/latex": [
       "374"
      ],
      "text/markdown": [
       "374"
      ],
      "text/plain": [
       "[1] 374"
      ]
     },
     "metadata": {},
     "output_type": "display_data"
    }
   ],
   "source": [
    "sleep_data_reduced <- sleep_data %>%\n",
    "  dplyr::select(-any_of(c(\"Person.ID\", \"Gender\", \"Blood.Pressure\", \"Heart.Rate\", \"Daily.Steps\")))\n",
    "new_names <- c(\n",
    "  \"Age\", \"Occupation\", \"Sleep_Duration\", \n",
    "  \"Quality_of_Sleep\", \"Physical_Activity_Level\", \"Stress_Level\", \n",
    "  \"BMI_Category\",\n",
    "  \"Sleep_Disorder\"\n",
    ")\n",
    "names(sleep_data_reduced)<- new_names\n",
    "sleep_data_reduced<- sleep_data_reduced|>mutate(BMI_Category = as.factor(BMI_Category), Occupation = as.factor(Occupation))\n",
    "sleep_data_reduced<- sleep_data_reduced|>mutate(Sleep_Disorder= ifelse(Sleep_Disorder==\"None\", \"False\", \"True\"))\n",
    "sleep_data_reduced<- sleep_data_reduced|>mutate(Sleep_Disorder = as.factor(Sleep_Disorder))\n",
    "head(sleep_data_reduced) \n",
    "nrow(sleep_data_reduced)"
   ]
  },
  {
   "cell_type": "markdown",
   "id": "f98c0058-6ccc-4a85-97ec-0b86c0451ad7",
   "metadata": {},
   "source": [
    "# IMPLEMENTATION\n",
    "QUESTION: ASSOCIATION BETWEEN SLEEP DURATION (RESPONSE) AND THE OTHER CHOSEN VARIABLES.\n",
    "\n",
    "HERE WE SPLIT THE DATA TO TRAINING/TESTING, 70/30 BEFORE DOING THE FIRST VIF CHECK."
   ]
  },
  {
   "cell_type": "code",
   "execution_count": 4,
   "id": "c4d2baef-333c-4db0-afd1-113cc394ab39",
   "metadata": {},
   "outputs": [
    {
     "name": "stdout",
     "output_type": "stream",
     "text": [
      "[1] \"TRAINING N-ROWS 260\"\n",
      "[1] \"TESTING N-ROWS 114\"\n"
     ]
    }
   ],
   "source": [
    "# SPLITTING\n",
    "# SPLIT DATA BEFORE FIRST VIF CHECK\n",
    "\n",
    "data_split <- sleep_data_reduced |> initial_split(prop = 0.7, strata = Sleep_Duration)\n",
    "sleep_train <- training(data_split)\n",
    "sleep_test <- testing(data_split)\n",
    "print(paste(\"TRAINING N-ROWS\", nrow(sleep_train)))\n",
    "print(paste(\"TESTING N-ROWS\", nrow(sleep_test)))"
   ]
  },
  {
   "cell_type": "code",
   "execution_count": 5,
   "id": "cae246e9-8004-4e7c-9654-e6a701bd8fb6",
   "metadata": {},
   "outputs": [
    {
     "data": {
      "text/html": [
       "<table class=\"dataframe\">\n",
       "<caption>A matrix: 7 × 3 of type dbl</caption>\n",
       "<thead>\n",
       "\t<tr><th></th><th scope=col>GVIF</th><th scope=col>Df</th><th scope=col>GVIF^(1/(2*Df))</th></tr>\n",
       "</thead>\n",
       "<tbody>\n",
       "\t<tr><th scope=row>Age</th><td> 7.830321</td><td> 1</td><td>2.798271</td></tr>\n",
       "\t<tr><th scope=row>Occupation</th><td>95.155699</td><td>10</td><td>1.255804</td></tr>\n",
       "\t<tr><th scope=row>Quality_of_Sleep</th><td>27.221151</td><td> 1</td><td>5.217389</td></tr>\n",
       "\t<tr><th scope=row>Physical_Activity_Level</th><td> 1.829254</td><td> 1</td><td>1.352499</td></tr>\n",
       "\t<tr><th scope=row>Stress_Level</th><td>18.079221</td><td> 1</td><td>4.251967</td></tr>\n",
       "\t<tr><th scope=row>BMI_Category</th><td>24.316714</td><td> 3</td><td>1.702096</td></tr>\n",
       "\t<tr><th scope=row>Sleep_Disorder</th><td> 4.168103</td><td> 1</td><td>2.041593</td></tr>\n",
       "</tbody>\n",
       "</table>\n"
      ],
      "text/latex": [
       "A matrix: 7 × 3 of type dbl\n",
       "\\begin{tabular}{r|lll}\n",
       "  & GVIF & Df & GVIF\\textasciicircum{}(1/(2*Df))\\\\\n",
       "\\hline\n",
       "\tAge &  7.830321 &  1 & 2.798271\\\\\n",
       "\tOccupation & 95.155699 & 10 & 1.255804\\\\\n",
       "\tQuality\\_of\\_Sleep & 27.221151 &  1 & 5.217389\\\\\n",
       "\tPhysical\\_Activity\\_Level &  1.829254 &  1 & 1.352499\\\\\n",
       "\tStress\\_Level & 18.079221 &  1 & 4.251967\\\\\n",
       "\tBMI\\_Category & 24.316714 &  3 & 1.702096\\\\\n",
       "\tSleep\\_Disorder &  4.168103 &  1 & 2.041593\\\\\n",
       "\\end{tabular}\n"
      ],
      "text/markdown": [
       "\n",
       "A matrix: 7 × 3 of type dbl\n",
       "\n",
       "| <!--/--> | GVIF | Df | GVIF^(1/(2*Df)) |\n",
       "|---|---|---|---|\n",
       "| Age |  7.830321 |  1 | 2.798271 |\n",
       "| Occupation | 95.155699 | 10 | 1.255804 |\n",
       "| Quality_of_Sleep | 27.221151 |  1 | 5.217389 |\n",
       "| Physical_Activity_Level |  1.829254 |  1 | 1.352499 |\n",
       "| Stress_Level | 18.079221 |  1 | 4.251967 |\n",
       "| BMI_Category | 24.316714 |  3 | 1.702096 |\n",
       "| Sleep_Disorder |  4.168103 |  1 | 2.041593 |\n",
       "\n"
      ],
      "text/plain": [
       "                        GVIF      Df GVIF^(1/(2*Df))\n",
       "Age                      7.830321  1 2.798271       \n",
       "Occupation              95.155699 10 1.255804       \n",
       "Quality_of_Sleep        27.221151  1 5.217389       \n",
       "Physical_Activity_Level  1.829254  1 1.352499       \n",
       "Stress_Level            18.079221  1 4.251967       \n",
       "BMI_Category            24.316714  3 1.702096       \n",
       "Sleep_Disorder           4.168103  1 2.041593       "
      ]
     },
     "metadata": {},
     "output_type": "display_data"
    }
   ],
   "source": [
    "# FIRST VIF CHECK WITH TRAINING SET\n",
    "sleep_full <- lm(Sleep_Duration~., data=sleep_train)\n",
    "vif(sleep_full)"
   ]
  },
  {
   "cell_type": "markdown",
   "id": "9836b2c0-0dbe-449f-9fef-14ecd15c9e97",
   "metadata": {},
   "source": [
    "Variables with high scaled-GVIF:\n",
    "\n",
    "Quality_of_Sleep, Stress_Level"
   ]
  },
  {
   "cell_type": "code",
   "execution_count": 6,
   "id": "4f3ae434-d14a-478c-b744-47a1f58edd93",
   "metadata": {},
   "outputs": [
    {
     "data": {
      "text/html": [
       "<style>\n",
       ".list-inline {list-style: none; margin:0; padding: 0}\n",
       ".list-inline>li {display: inline-block}\n",
       ".list-inline>li:not(:last-child)::after {content: \"\\00b7\"; padding: 0 .5ex}\n",
       "</style>\n",
       "<ol class=list-inline><li>'Accountant'</li><li>'Doctor'</li><li>'Engineer'</li><li>'Lawyer'</li><li>'Manager'</li><li>'Nurse'</li><li>'Sales Representative'</li><li>'Salesperson'</li><li>'Scientist'</li><li>'Software Engineer'</li><li>'Teacher'</li></ol>\n"
      ],
      "text/latex": [
       "\\begin{enumerate*}\n",
       "\\item 'Accountant'\n",
       "\\item 'Doctor'\n",
       "\\item 'Engineer'\n",
       "\\item 'Lawyer'\n",
       "\\item 'Manager'\n",
       "\\item 'Nurse'\n",
       "\\item 'Sales Representative'\n",
       "\\item 'Salesperson'\n",
       "\\item 'Scientist'\n",
       "\\item 'Software Engineer'\n",
       "\\item 'Teacher'\n",
       "\\end{enumerate*}\n"
      ],
      "text/markdown": [
       "1. 'Accountant'\n",
       "2. 'Doctor'\n",
       "3. 'Engineer'\n",
       "4. 'Lawyer'\n",
       "5. 'Manager'\n",
       "6. 'Nurse'\n",
       "7. 'Sales Representative'\n",
       "8. 'Salesperson'\n",
       "9. 'Scientist'\n",
       "10. 'Software Engineer'\n",
       "11. 'Teacher'\n",
       "\n",
       "\n"
      ],
      "text/plain": [
       " [1] \"Accountant\"           \"Doctor\"               \"Engineer\"            \n",
       " [4] \"Lawyer\"               \"Manager\"              \"Nurse\"               \n",
       " [7] \"Sales Representative\" \"Salesperson\"          \"Scientist\"           \n",
       "[10] \"Software Engineer\"    \"Teacher\"             "
      ]
     },
     "metadata": {},
     "output_type": "display_data"
    },
    {
     "name": "stdout",
     "output_type": "stream",
     "text": [
      "Start:  AIC=-607.89\n",
      "Sleep_Duration ~ Age + Occupation + Quality_of_Sleep + Physical_Activity_Level + \n",
      "    Stress_Level + BMI_Category + Sleep_Disorder\n",
      "\n",
      "                          Df Sum of Sq    RSS     AIC\n",
      "- Sleep_Disorder           1    0.0760 16.790 -612.27\n",
      "- Age                      1    0.2274 16.942 -609.94\n",
      "<none>                                 16.715 -607.89\n",
      "- BMI_Category             3    1.3931 18.108 -603.76\n",
      "- Quality_of_Sleep         1    1.2876 18.002 -594.16\n",
      "- Stress_Level             1    2.0169 18.731 -583.83\n",
      "- Physical_Activity_Level  1    2.9892 19.704 -570.68\n",
      "- Occupation              10   12.4060 29.120 -519.16\n",
      "\n",
      "Step:  AIC=-612.27\n",
      "Sleep_Duration ~ Age + Occupation + Quality_of_Sleep + Physical_Activity_Level + \n",
      "    Stress_Level + BMI_Category\n",
      "\n",
      "                          Df Sum of Sq    RSS     AIC\n",
      "- Age                      1    0.2995 17.090 -613.24\n",
      "<none>                                 16.790 -612.27\n",
      "- BMI_Category             3    1.3190 18.110 -609.29\n",
      "- Quality_of_Sleep         1    1.2196 18.010 -599.60\n",
      "- Stress_Level             1    2.1059 18.896 -587.11\n",
      "- Physical_Activity_Level  1    3.0745 19.865 -574.12\n",
      "- Occupation              10   12.3308 29.121 -524.71\n",
      "\n",
      "Step:  AIC=-613.24\n",
      "Sleep_Duration ~ Occupation + Quality_of_Sleep + Physical_Activity_Level + \n",
      "    Stress_Level + BMI_Category\n",
      "\n",
      "                          Df Sum of Sq    RSS     AIC\n",
      "- BMI_Category             3    1.0267 18.117 -614.75\n",
      "<none>                                 17.090 -613.24\n",
      "- Stress_Level             1    1.8066 18.896 -592.67\n",
      "- Physical_Activity_Level  1    2.7763 19.866 -579.66\n",
      "- Quality_of_Sleep         1    2.9535 20.044 -577.35\n",
      "- Occupation              10   12.6097 29.700 -525.16\n",
      "\n",
      "Step:  AIC=-614.75\n",
      "Sleep_Duration ~ Occupation + Quality_of_Sleep + Physical_Activity_Level + \n",
      "    Stress_Level\n",
      "\n",
      "                          Df Sum of Sq    RSS     AIC\n",
      "<none>                                 18.117 -614.75\n",
      "- Stress_Level             1    1.9915 20.108 -593.20\n",
      "- Physical_Activity_Level  1    2.4816 20.598 -586.93\n",
      "- Quality_of_Sleep         1    3.0204 21.137 -580.22\n",
      "- Occupation              10   15.6227 33.739 -508.68\n"
     ]
    }
   ],
   "source": [
    "# STEP AIC WITH FULL MODEL FROM TRAINING SET\n",
    "levels(sleep_train$Occupation)\n",
    "# FROM THE ALPHABETICAL ORDER OF THE LEVELS OF THE OCCUPATION VARIABLE, WE EXPECT \"ACCOUNTANT\"\n",
    "# TO BE ABSORBED INTO THE REFERENCE LEVEL ROW (INTERCEPT)\n",
    "\n",
    "aic_model <- stepAIC(sleep_full, direction = \"backward\", k = log(nrow(sleep_train)))"
   ]
  },
  {
   "cell_type": "markdown",
   "id": "a56bf0a2-3421-4deb-abc7-07210020aa32",
   "metadata": {},
   "source": [
    "# RESULT"
   ]
  },
  {
   "cell_type": "code",
   "execution_count": 7,
   "id": "d24e3a2d-86cf-494d-8cef-43b805234b98",
   "metadata": {},
   "outputs": [
    {
     "data": {
      "text/plain": [
       "\n",
       "Call:\n",
       "lm(formula = Sleep_Duration ~ Occupation + Quality_of_Sleep + \n",
       "    Physical_Activity_Level + Stress_Level, data = sleep_train)\n",
       "\n",
       "Residuals:\n",
       "    Min      1Q  Median      3Q     Max \n",
       "-0.6616 -0.1587 -0.0548  0.1616  1.1758 \n",
       "\n",
       "Coefficients:\n",
       "                                Estimate Std. Error t value Pr(>|t|)    \n",
       "(Intercept)                     4.700868   0.610355   7.702 3.27e-13 ***\n",
       "OccupationDoctor                0.691842   0.070974   9.748  < 2e-16 ***\n",
       "OccupationEngineer              0.578558   0.069607   8.312 6.43e-15 ***\n",
       "OccupationLawyer                0.289011   0.074591   3.875 0.000137 ***\n",
       "OccupationManager               0.198861   0.279523   0.711 0.477492    \n",
       "OccupationNurse                 0.164997   0.070346   2.346 0.019796 *  \n",
       "OccupationSales Representative  1.003075   0.233007   4.305 2.41e-05 ***\n",
       "OccupationSalesperson           0.512532   0.087562   5.853 1.53e-08 ***\n",
       "OccupationScientist             0.350947   0.185691   1.890 0.059941 .  \n",
       "OccupationSoftware Engineer     0.399485   0.277382   1.440 0.151082    \n",
       "OccupationTeacher              -0.054610   0.093996  -0.581 0.561785    \n",
       "Quality_of_Sleep                0.370087   0.057789   6.404 7.61e-10 ***\n",
       "Physical_Activity_Level         0.005858   0.001009   5.805 1.98e-08 ***\n",
       "Stress_Level                   -0.182503   0.035096  -5.200 4.19e-07 ***\n",
       "---\n",
       "Signif. codes:  0 ‘***’ 0.001 ‘**’ 0.01 ‘*’ 0.05 ‘.’ 0.1 ‘ ’ 1\n",
       "\n",
       "Residual standard error: 0.2714 on 246 degrees of freedom\n",
       "Multiple R-squared:  0.8915,\tAdjusted R-squared:  0.8858 \n",
       "F-statistic: 155.5 on 13 and 246 DF,  p-value: < 2.2e-16\n"
      ]
     },
     "metadata": {},
     "output_type": "display_data"
    }
   ],
   "source": [
    "summary(aic_model)"
   ]
  },
  {
   "cell_type": "markdown",
   "id": "0243e19c-9a9e-4dee-8db7-045133d24b30",
   "metadata": {},
   "source": [
    "INTERPRETATION: \n",
    "\n",
    "REMOVED AFTER STEP-AIC:\n",
    "\n",
    "Age, BMI_Category, Sleep_Disorder."
   ]
  },
  {
   "cell_type": "code",
   "execution_count": 8,
   "id": "48edf7b8-2df0-48d4-b191-04f4466b13cd",
   "metadata": {},
   "outputs": [
    {
     "name": "stdout",
     "output_type": "stream",
     "text": [
      "[1] \"Significant predictors:\"\n",
      "\u001b[90m# A tibble: 10 × 6\u001b[39m\n",
      "   term                          estimate std.error statistic  p.value direction\n",
      "   \u001b[3m\u001b[90m<chr>\u001b[39m\u001b[23m                            \u001b[3m\u001b[90m<dbl>\u001b[39m\u001b[23m     \u001b[3m\u001b[90m<dbl>\u001b[39m\u001b[23m     \u001b[3m\u001b[90m<dbl>\u001b[39m\u001b[23m    \u001b[3m\u001b[90m<dbl>\u001b[39m\u001b[23m \u001b[3m\u001b[90m<chr>\u001b[39m\u001b[23m    \n",
      "\u001b[90m 1\u001b[39m (Intercept)                    4.70      0.610        7.70 3.27\u001b[90me\u001b[39m\u001b[31m-13\u001b[39m Positive \n",
      "\u001b[90m 2\u001b[39m OccupationDoctor               0.692     0.071\u001b[4m0\u001b[24m       9.75 3.40\u001b[90me\u001b[39m\u001b[31m-19\u001b[39m Positive \n",
      "\u001b[90m 3\u001b[39m OccupationEngineer             0.579     0.069\u001b[4m6\u001b[24m       8.31 6.43\u001b[90me\u001b[39m\u001b[31m-15\u001b[39m Positive \n",
      "\u001b[90m 4\u001b[39m OccupationLawyer               0.289     0.074\u001b[4m6\u001b[24m       3.87 1.37\u001b[90me\u001b[39m\u001b[31m- 4\u001b[39m Positive \n",
      "\u001b[90m 5\u001b[39m OccupationNurse                0.165     0.070\u001b[4m3\u001b[24m       2.35 1.98\u001b[90me\u001b[39m\u001b[31m- 2\u001b[39m Positive \n",
      "\u001b[90m 6\u001b[39m OccupationSales Representati…  1.00      0.233        4.30 2.41\u001b[90me\u001b[39m\u001b[31m- 5\u001b[39m Positive \n",
      "\u001b[90m 7\u001b[39m OccupationSalesperson          0.513     0.087\u001b[4m6\u001b[24m       5.85 1.53\u001b[90me\u001b[39m\u001b[31m- 8\u001b[39m Positive \n",
      "\u001b[90m 8\u001b[39m Quality_of_Sleep               0.370     0.057\u001b[4m8\u001b[24m       6.40 7.61\u001b[90me\u001b[39m\u001b[31m-10\u001b[39m Positive \n",
      "\u001b[90m 9\u001b[39m Physical_Activity_Level        0.005\u001b[4m8\u001b[24m\u001b[4m6\u001b[24m   0.001\u001b[4m0\u001b[24m\u001b[4m1\u001b[24m      5.80 1.98\u001b[90me\u001b[39m\u001b[31m- 8\u001b[39m Positive \n",
      "\u001b[90m10\u001b[39m Stress_Level                  -\u001b[31m0\u001b[39m\u001b[31m.\u001b[39m\u001b[31m183\u001b[39m     0.035\u001b[4m1\u001b[24m      -\u001b[31m5\u001b[39m\u001b[31m.\u001b[39m\u001b[31m20\u001b[39m 4.19\u001b[90me\u001b[39m\u001b[31m- 7\u001b[39m Negative \n",
      "[1] \"Insignificant predictors:\"\n",
      "\u001b[90m# A tibble: 4 × 6\u001b[39m\n",
      "  term                        estimate std.error statistic p.value direction\n",
      "  \u001b[3m\u001b[90m<chr>\u001b[39m\u001b[23m                          \u001b[3m\u001b[90m<dbl>\u001b[39m\u001b[23m     \u001b[3m\u001b[90m<dbl>\u001b[39m\u001b[23m     \u001b[3m\u001b[90m<dbl>\u001b[39m\u001b[23m   \u001b[3m\u001b[90m<dbl>\u001b[39m\u001b[23m \u001b[3m\u001b[90m<chr>\u001b[39m\u001b[23m    \n",
      "\u001b[90m1\u001b[39m OccupationManager             0.199     0.280      0.711  0.477  Neither  \n",
      "\u001b[90m2\u001b[39m OccupationScientist           0.351     0.186      1.89   0.059\u001b[4m9\u001b[24m Neither  \n",
      "\u001b[90m3\u001b[39m OccupationSoftware Engineer   0.399     0.277      1.44   0.151  Neither  \n",
      "\u001b[90m4\u001b[39m OccupationTeacher            -\u001b[31m0\u001b[39m\u001b[31m.\u001b[39m\u001b[31m0\u001b[39m\u001b[31m54\u001b[4m6\u001b[24m\u001b[39m    0.094\u001b[4m0\u001b[24m    -\u001b[31m0\u001b[39m\u001b[31m.\u001b[39m\u001b[31m581\u001b[39m  0.562  Neither  \n"
     ]
    }
   ],
   "source": [
    "model_results <- tidy(aic_model)\n",
    "\n",
    "#CREATING A NEW COLUMN FOR THE DIRECTION OF THE ASSOCIATION\n",
    "model_results$direction <- ifelse(\n",
    "  model_results$p.value < 0.05,\n",
    "  ifelse(model_results$estimate > 0, \"Positive\", \"Negative\"),\n",
    "  \"Neither\"\n",
    ")\n",
    "\n",
    "# NEW TABLES THAT SPLIT SIGNIFICANT and INSIGNIFICANT VARIABLES\n",
    "sig_vars <- subset(model_results, p.value < 0.05)\n",
    "insig_vars <- subset(model_results, p.value >= 0.05)\n",
    "\n",
    "print(\"Significant predictors:\")\n",
    "print(sig_vars)\n",
    "\n",
    "print(\"Insignificant predictors:\")\n",
    "print(insig_vars)"
   ]
  },
  {
   "cell_type": "markdown",
   "id": "229d2d66-7015-47db-a760-156bee50a937",
   "metadata": {},
   "source": [
    "INTERPRETATION:\n",
    "\n",
    "From these results from the stepAIC-selected model, we conclude that the chosen factors indeed have a significant association with the response variable sleep duration.\n",
    "\n",
    "Namely:\n",
    "\n",
    "- Higher quality of sleep and higher physical activity are associated with longer sleep duration\n",
    "- Higher stress is associated with lower sleep duration\n",
    "\n",
    "AS FOR OCCUPATIONS:\n",
    "\n",
    "From the alphabetical order of the levels of the occupation variable we expect \"Accountant\" to be absorbed into the reference level (Intercept) row.\n",
    "\n",
    "- Compared to accountants, occupations like manager, scientist, software engineer, and teacher did not show significant difference in sleep duration. (p-value >= 0.05)\n",
    "- All other occupations showed a higher sleep duration compared to accountants.\n",
    "\n",
    "In terms of inference, the only solid conclusion we can make is that overall, occupation, along with sleep quality, physical activity, and stress level, does have a siginificant association with sleep duration."
   ]
  },
  {
   "cell_type": "code",
   "execution_count": 9,
   "id": "263bd69d-f60f-4504-9778-35f2bc16512e",
   "metadata": {},
   "outputs": [
    {
     "data": {
      "text/html": [
       "<table class=\"dataframe\">\n",
       "<caption>A matrix: 4 × 3 of type dbl</caption>\n",
       "<thead>\n",
       "\t<tr><th></th><th scope=col>GVIF</th><th scope=col>Df</th><th scope=col>GVIF^(1/(2*Df))</th></tr>\n",
       "</thead>\n",
       "<tbody>\n",
       "\t<tr><th scope=row>Occupation</th><td> 6.382407</td><td>10</td><td>1.097108</td></tr>\n",
       "\t<tr><th scope=row>Quality_of_Sleep</th><td>16.528830</td><td> 1</td><td>4.065566</td></tr>\n",
       "\t<tr><th scope=row>Physical_Activity_Level</th><td> 1.582861</td><td> 1</td><td>1.258118</td></tr>\n",
       "\t<tr><th scope=row>Stress_Level</th><td>13.791348</td><td> 1</td><td>3.713670</td></tr>\n",
       "</tbody>\n",
       "</table>\n"
      ],
      "text/latex": [
       "A matrix: 4 × 3 of type dbl\n",
       "\\begin{tabular}{r|lll}\n",
       "  & GVIF & Df & GVIF\\textasciicircum{}(1/(2*Df))\\\\\n",
       "\\hline\n",
       "\tOccupation &  6.382407 & 10 & 1.097108\\\\\n",
       "\tQuality\\_of\\_Sleep & 16.528830 &  1 & 4.065566\\\\\n",
       "\tPhysical\\_Activity\\_Level &  1.582861 &  1 & 1.258118\\\\\n",
       "\tStress\\_Level & 13.791348 &  1 & 3.713670\\\\\n",
       "\\end{tabular}\n"
      ],
      "text/markdown": [
       "\n",
       "A matrix: 4 × 3 of type dbl\n",
       "\n",
       "| <!--/--> | GVIF | Df | GVIF^(1/(2*Df)) |\n",
       "|---|---|---|---|\n",
       "| Occupation |  6.382407 | 10 | 1.097108 |\n",
       "| Quality_of_Sleep | 16.528830 |  1 | 4.065566 |\n",
       "| Physical_Activity_Level |  1.582861 |  1 | 1.258118 |\n",
       "| Stress_Level | 13.791348 |  1 | 3.713670 |\n",
       "\n"
      ],
      "text/plain": [
       "                        GVIF      Df GVIF^(1/(2*Df))\n",
       "Occupation               6.382407 10 1.097108       \n",
       "Quality_of_Sleep        16.528830  1 4.065566       \n",
       "Physical_Activity_Level  1.582861  1 1.258118       \n",
       "Stress_Level            13.791348  1 3.713670       "
      ]
     },
     "metadata": {},
     "output_type": "display_data"
    }
   ],
   "source": [
    "# 2ND VIF WITH AIC MODEL\n",
    "vif(aic_model)"
   ]
  },
  {
   "cell_type": "markdown",
   "id": "166fac81-e869-4bde-a3d3-39526371177d",
   "metadata": {},
   "source": [
    "INTERPRETATION:\n",
    "\n",
    "A slight improvement."
   ]
  },
  {
   "cell_type": "markdown",
   "id": "11331387-0541-4885-bced-c277a3f0b1f2",
   "metadata": {},
   "source": [
    "# VALIDATION\n",
    "\n",
    "Here we start using the test set to validate our stepAIC model."
   ]
  },
  {
   "cell_type": "code",
   "execution_count": 10,
   "id": "2520bb0e-314b-4082-a8be-3ad03fd683c6",
   "metadata": {},
   "outputs": [
    {
     "name": "stdout",
     "output_type": "stream",
     "text": [
      "     RMSE       MAE        R2 \n",
      "0.3031200 0.2235853 0.8484668 \n",
      "[1] \"RMSE RELATIVE TO MEAN SLEEP DURATION:  0.0424\"\n",
      "[1] \"MAE RELATIVE TO MEAN SLEEP DURATION:  0.0313\"\n"
     ]
    }
   ],
   "source": [
    "prediction_test <- predict(aic_model, newdata = sleep_test)\n",
    "actual <- sleep_test$Sleep_Duration\n",
    "residual <- actual - prediction_test\n",
    "RMSE <- sqrt(mean(residual^2))\n",
    "MAE <- mean(abs(residual))\n",
    "R2 <- 1 - sum(residual^2) / sum((actual - mean(actual))^2)\n",
    "\n",
    "print(c(RMSE = RMSE, MAE = MAE, R2 = R2))\n",
    "\n",
    "mean_sleep <- mean(sleep_test$Sleep_Duration)\n",
    "relative_RMSE <- RMSE / mean_sleep\n",
    "relative_MAE <- MAE / mean_sleep\n",
    "\n",
    "print(paste(\"RMSE RELATIVE TO MEAN SLEEP DURATION: \", round(relative_RMSE,4)))\n",
    "print(paste(\"MAE RELATIVE TO MEAN SLEEP DURATION: \", round(relative_MAE,4)))"
   ]
  },
  {
   "cell_type": "markdown",
   "id": "ae644ba9-ff94-40d0-a37f-f3cdd53b605a",
   "metadata": {},
   "source": [
    "Summary of test-set validation:\n",
    "\n",
    "- RMS error: about 0.284 hrs sleep duration, or 17 minutes.\n",
    "- Relative RMSE: about 0.0424, good.\n",
    "- MA error: 0.215 hrs, or 13 min.\n",
    "- Relative MAE: about 0.0313, good.\n",
    "- R^2: 0.872, good."
   ]
  },
  {
   "cell_type": "code",
   "execution_count": null,
   "id": "8e8361b7-2a5a-4620-ac03-a808da33f2fa",
   "metadata": {},
   "outputs": [],
   "source": []
  },
  {
   "cell_type": "code",
   "execution_count": null,
   "id": "bc0c2a0c-fd8f-41a4-8647-93fee3a38785",
   "metadata": {},
   "outputs": [],
   "source": []
  },
  {
   "cell_type": "code",
   "execution_count": null,
   "id": "a68e9527-4488-436c-b25c-406450ce377e",
   "metadata": {},
   "outputs": [],
   "source": []
  },
  {
   "cell_type": "code",
   "execution_count": null,
   "id": "0b066be0-f69e-4b79-9d12-96ebcd1fea67",
   "metadata": {},
   "outputs": [],
   "source": []
  },
  {
   "cell_type": "code",
   "execution_count": null,
   "id": "4ada8148-2895-4672-9662-6266dedb2218",
   "metadata": {},
   "outputs": [],
   "source": []
  },
  {
   "cell_type": "code",
   "execution_count": null,
   "id": "efa54882-9c5d-4182-92c7-d5e50f213835",
   "metadata": {},
   "outputs": [],
   "source": []
  },
  {
   "cell_type": "code",
   "execution_count": null,
   "id": "39a135ea-e37a-415b-b89a-0882e187367a",
   "metadata": {},
   "outputs": [],
   "source": []
  },
  {
   "cell_type": "code",
   "execution_count": null,
   "id": "fb6e66a3-dfbd-4aa6-9edb-b1269d131142",
   "metadata": {},
   "outputs": [],
   "source": []
  },
  {
   "cell_type": "code",
   "execution_count": null,
   "id": "75f9d4e3-e419-4bd6-9c55-574f48888544",
   "metadata": {},
   "outputs": [],
   "source": []
  },
  {
   "cell_type": "code",
   "execution_count": null,
   "id": "6a69d423-e5f1-43a8-8034-8aef6d1c4b35",
   "metadata": {},
   "outputs": [],
   "source": []
  },
  {
   "cell_type": "code",
   "execution_count": null,
   "id": "d290dd0d-b5b7-4291-96d8-561dea58adc6",
   "metadata": {},
   "outputs": [],
   "source": []
  },
  {
   "cell_type": "code",
   "execution_count": null,
   "id": "0ff3ea24-ec4b-4700-88f3-14dd017c9733",
   "metadata": {},
   "outputs": [],
   "source": []
  },
  {
   "cell_type": "code",
   "execution_count": null,
   "id": "b6bb9053-8ddd-444a-9b9c-b18928c5264c",
   "metadata": {},
   "outputs": [],
   "source": []
  },
  {
   "cell_type": "code",
   "execution_count": null,
   "id": "c30214ff-f386-4a29-8b97-36ded36c2ff5",
   "metadata": {},
   "outputs": [],
   "source": []
  },
  {
   "cell_type": "code",
   "execution_count": null,
   "id": "fcf74af6-4074-4392-bc52-b8479b7c1b6c",
   "metadata": {},
   "outputs": [],
   "source": []
  },
  {
   "cell_type": "code",
   "execution_count": null,
   "id": "2ce181be-f278-4da5-9299-b2b3914b7801",
   "metadata": {},
   "outputs": [],
   "source": []
  }
 ],
 "metadata": {
  "kernelspec": {
   "display_name": "R",
   "language": "R",
   "name": "ir"
  },
  "language_info": {
   "codemirror_mode": "r",
   "file_extension": ".r",
   "mimetype": "text/x-r-source",
   "name": "R",
   "pygments_lexer": "r",
   "version": "4.3.3"
  }
 },
 "nbformat": 4,
 "nbformat_minor": 5
}
