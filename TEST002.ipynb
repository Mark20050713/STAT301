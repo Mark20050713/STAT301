{
 "cells": [
  {
   "cell_type": "markdown",
   "id": "1fc302ff-77fa-4176-b5b0-95f5dcccc95b",
   "metadata": {},
   "source": [
    "# LIBRARIES"
   ]
  },
  {
   "cell_type": "code",
   "execution_count": 1,
   "id": "fb58bbc6-f28a-4e65-8798-8f4a9152ba2e",
   "metadata": {},
   "outputs": [
    {
     "name": "stderr",
     "output_type": "stream",
     "text": [
      "── \u001b[1mAttaching core tidyverse packages\u001b[22m ──────────────────────── tidyverse 2.0.0 ──\n",
      "\u001b[32m✔\u001b[39m \u001b[34mdplyr    \u001b[39m 1.1.4     \u001b[32m✔\u001b[39m \u001b[34mreadr    \u001b[39m 2.1.5\n",
      "\u001b[32m✔\u001b[39m \u001b[34mforcats  \u001b[39m 1.0.0     \u001b[32m✔\u001b[39m \u001b[34mstringr  \u001b[39m 1.5.1\n",
      "\u001b[32m✔\u001b[39m \u001b[34mggplot2  \u001b[39m 3.5.1     \u001b[32m✔\u001b[39m \u001b[34mtibble   \u001b[39m 3.2.1\n",
      "\u001b[32m✔\u001b[39m \u001b[34mlubridate\u001b[39m 1.9.3     \u001b[32m✔\u001b[39m \u001b[34mtidyr    \u001b[39m 1.3.1\n",
      "\u001b[32m✔\u001b[39m \u001b[34mpurrr    \u001b[39m 1.0.2     \n",
      "── \u001b[1mConflicts\u001b[22m ────────────────────────────────────────── tidyverse_conflicts() ──\n",
      "\u001b[31m✖\u001b[39m \u001b[34mdplyr\u001b[39m::\u001b[32mfilter()\u001b[39m masks \u001b[34mstats\u001b[39m::filter()\n",
      "\u001b[31m✖\u001b[39m \u001b[34mdplyr\u001b[39m::\u001b[32mlag()\u001b[39m    masks \u001b[34mstats\u001b[39m::lag()\n",
      "\u001b[36mℹ\u001b[39m Use the conflicted package (\u001b[3m\u001b[34m<http://conflicted.r-lib.org/>\u001b[39m\u001b[23m) to force all conflicts to become errors\n",
      "\n",
      "Attaching package: ‘MASS’\n",
      "\n",
      "\n",
      "The following object is masked from ‘package:dplyr’:\n",
      "\n",
      "    select\n",
      "\n",
      "\n",
      "Loading required package: carData\n",
      "\n",
      "\n",
      "Attaching package: ‘car’\n",
      "\n",
      "\n",
      "The following object is masked from ‘package:dplyr’:\n",
      "\n",
      "    recode\n",
      "\n",
      "\n",
      "The following object is masked from ‘package:purrr’:\n",
      "\n",
      "    some\n",
      "\n",
      "\n"
     ]
    },
    {
     "name": "stdout",
     "output_type": "stream",
     "text": [
      "[1] \"LIBRARIES LOADED\"\n"
     ]
    }
   ],
   "source": [
    "library(tidyverse)\n",
    "library(repr)\n",
    "library(broom)\n",
    "library(leaps)\n",
    "library(moderndive)\n",
    "library(MASS)\n",
    "library(car)\n",
    "library(rsample)\n",
    "print(\"LIBRARIES LOADED\")"
   ]
  },
  {
   "cell_type": "markdown",
   "id": "d4da223c-6a6f-485b-b341-237e011a9f3f",
   "metadata": {},
   "source": [
    "# DATA AND TIDYING"
   ]
  },
  {
   "cell_type": "code",
   "execution_count": null,
   "id": "57092939-7689-4749-9e8c-1a20bd9e5494",
   "metadata": {},
   "outputs": [],
   "source": [
    "file_url <- \"https://drive.google.com/uc?export=download&id=1ZjZvLl5dUzHEF8ouimlTg8t0MorhjzVA\"\n",
    "sleep_data <- read.csv(file_url)\n",
    "head(sleep_data)\n",
    "set.seed(114514) # SEED, DO NOT CHANGE"
   ]
  },
  {
   "cell_type": "code",
   "execution_count": null,
   "id": "0eb665ad-63a4-4846-a374-bc70db8a9f78",
   "metadata": {},
   "outputs": [],
   "source": [
    "sleep_data_reduced <- sleep_data %>%\n",
    "  dplyr::select(-any_of(c(\"Person.ID\", \"Gender\", \"Blood.Pressure\", \"Heart.Rate\", \"Daily.Steps\")))\n",
    "new_names <- c(\n",
    "  \"Age\", \"Occupation\", \"Sleep_Duration\", \n",
    "  \"Quality_of_Sleep\", \"Physical_Activity_Level\", \"Stress_Level\", \n",
    "  \"BMI_Category\",\n",
    "  \"Sleep_Disorder\"\n",
    ")\n",
    "names(sleep_data_reduced)<- new_names\n",
    "sleep_data_reduced<- sleep_data_reduced|>mutate(BMI_Category = as.factor(BMI_Category), Occupation = as.factor(Occupation))\n",
    "sleep_data_reduced<- sleep_data_reduced|>mutate(Sleep_Disorder= ifelse(Sleep_Disorder==\"None\", \"False\", \"True\"))\n",
    "sleep_data_reduced<- sleep_data_reduced|>mutate(Sleep_Disorder = as.factor(Sleep_Disorder))\n",
    "head(sleep_data_reduced) \n",
    "nrow(sleep_data_reduced)"
   ]
  },
  {
   "cell_type": "markdown",
   "id": "f98c0058-6ccc-4a85-97ec-0b86c0451ad7",
   "metadata": {},
   "source": [
    "# IMPLEMENTATION\n",
    "QUESTION: ASSOCIATION BETWEEN SLEEP DURATION (RESPONSE) AND OTHER VARIABLES.\n",
    "\n",
    "HERE WE SPLIT THE DATA TO TRAINING/TESTING, 70/30 BEFORE DOING THE FIRST VIF CHECK."
   ]
  },
  {
   "cell_type": "code",
   "execution_count": null,
   "id": "c4d2baef-333c-4db0-afd1-113cc394ab39",
   "metadata": {},
   "outputs": [],
   "source": [
    "# SPLITTING\n",
    "# SPLIT DATA BEFORE FIRST VIF CHECK\n",
    "\n",
    "data_split <- sleep_data_reduced |> initial_split(prop = 0.7, strata = Sleep_Duration)\n",
    "sleep_train <- training(data_split)\n",
    "sleep_test <- testing(data_split)\n",
    "print(paste(\"TRAINING N-ROWS\", nrow(sleep_train)))\n",
    "print(paste(\"TESTING N-ROWS\", nrow(sleep_test)))"
   ]
  },
  {
   "cell_type": "code",
   "execution_count": null,
   "id": "cae246e9-8004-4e7c-9654-e6a701bd8fb6",
   "metadata": {},
   "outputs": [],
   "source": [
    "# FIRST VIF CHECK\n",
    "sleep_full <- lm(Sleep_Duration~., data=sleep_train)\n",
    "vif(sleep_full)"
   ]
  },
  {
   "cell_type": "markdown",
   "id": "9836b2c0-0dbe-449f-9fef-14ecd15c9e97",
   "metadata": {},
   "source": [
    "Variables with high scaled-GVIF:\n",
    "\n",
    "Quality_of_Sleep, Stress_Level"
   ]
  },
  {
   "cell_type": "code",
   "execution_count": null,
   "id": "4f3ae434-d14a-478c-b744-47a1f58edd93",
   "metadata": {},
   "outputs": [],
   "source": [
    "# STEP AIC\n",
    "levels(sleep_train$Occupation)\n",
    "# FROM THE ALPHABETICAL ORDER OF THE LEVELS OF THE OCCUPATION VARIABLE, WE EXPECT \"ACCOUNTANT\"\n",
    "# TO BE ABSORBED INTO THE REFERENCE LEVEL ROW (INTERCEPT)\n",
    "\n",
    "aic_model <- stepAIC(sleep_full, direction = \"backward\", k = log(nrow(sleep_train)))\n",
    "summary(aic_model)"
   ]
  },
  {
   "cell_type": "markdown",
   "id": "229d2d66-7015-47db-a760-156bee50a937",
   "metadata": {},
   "source": [
    "INTERPRETATION:\n",
    "\n",
    "From the alphabetical order of the levels of the occupation variable we expect \"Accountant\" to be absorbed into the reference level (Intercept) row.\n",
    "\n",
    "REMOVED AFTER STEP-AIC:\n",
    "\n",
    "Age, BMI_Category, Sleep_Disorder."
   ]
  },
  {
   "cell_type": "code",
   "execution_count": null,
   "id": "263bd69d-f60f-4504-9778-35f2bc16512e",
   "metadata": {},
   "outputs": [],
   "source": [
    "# 2ND VIF WITH AIC MODEL\n",
    "vif(aic_model)"
   ]
  },
  {
   "cell_type": "markdown",
   "id": "166fac81-e869-4bde-a3d3-39526371177d",
   "metadata": {},
   "source": [
    "INTERPRETATION:\n",
    "\n",
    "A slight improvement."
   ]
  },
  {
   "cell_type": "markdown",
   "id": "11331387-0541-4885-bced-c277a3f0b1f2",
   "metadata": {},
   "source": [
    "# VALIDATION"
   ]
  },
  {
   "cell_type": "code",
   "execution_count": null,
   "id": "2520bb0e-314b-4082-a8be-3ad03fd683c6",
   "metadata": {},
   "outputs": [],
   "source": [
    "prediction_test <- predict(aic_model, newdata = sleep_test)\n",
    "actual <- sleep_test$Sleep_Duration\n",
    "residual <- actual - prediction_test\n",
    "RMSE <- sqrt(mean(residual^2))\n",
    "MAE <- mean(abs(residual))\n",
    "R2 <- 1 - sum(residual^2) / sum((actual - mean(actual))^2)\n",
    "\n",
    "print(c(RMSE = RMSE, MAE = MAE, R2 = R2))\n",
    "\n",
    "mean_sleep <- mean(sleep_test$Sleep_Duration)\n",
    "relative_RMSE <- RMSE / mean_sleep\n",
    "relative_MAE <- MAE / mean_sleep\n",
    "\n",
    "print(paste(\"RMSE RELATIVE TO MEAN SLEEP DURATION: \", round(relative_RMSE,4), \", good.\"))\n",
    "print(paste(\"MAE RELATIVE TO MEAN SLEEP DURATION: \", round(relative_MAE,4), \",good.\"))"
   ]
  },
  {
   "cell_type": "markdown",
   "id": "ae644ba9-ff94-40d0-a37f-f3cdd53b605a",
   "metadata": {},
   "source": [
    "Summary of test-set validation:\n",
    "\n",
    "RMS error: about 0.284 hours sleep duration or 17 minutes.\n",
    "MA error: 0.215 hours or 13 minutes.\n",
    "R^2: 0.872, good."
   ]
  },
  {
   "cell_type": "code",
   "execution_count": null,
   "id": "8e8361b7-2a5a-4620-ac03-a808da33f2fa",
   "metadata": {},
   "outputs": [],
   "source": []
  },
  {
   "cell_type": "code",
   "execution_count": null,
   "id": "bc0c2a0c-fd8f-41a4-8647-93fee3a38785",
   "metadata": {},
   "outputs": [],
   "source": []
  },
  {
   "cell_type": "code",
   "execution_count": null,
   "id": "a68e9527-4488-436c-b25c-406450ce377e",
   "metadata": {},
   "outputs": [],
   "source": []
  },
  {
   "cell_type": "code",
   "execution_count": null,
   "id": "0b066be0-f69e-4b79-9d12-96ebcd1fea67",
   "metadata": {},
   "outputs": [],
   "source": []
  },
  {
   "cell_type": "code",
   "execution_count": null,
   "id": "4ada8148-2895-4672-9662-6266dedb2218",
   "metadata": {},
   "outputs": [],
   "source": []
  },
  {
   "cell_type": "code",
   "execution_count": null,
   "id": "efa54882-9c5d-4182-92c7-d5e50f213835",
   "metadata": {},
   "outputs": [],
   "source": []
  },
  {
   "cell_type": "code",
   "execution_count": null,
   "id": "39a135ea-e37a-415b-b89a-0882e187367a",
   "metadata": {},
   "outputs": [],
   "source": []
  },
  {
   "cell_type": "code",
   "execution_count": null,
   "id": "fb6e66a3-dfbd-4aa6-9edb-b1269d131142",
   "metadata": {},
   "outputs": [],
   "source": []
  },
  {
   "cell_type": "code",
   "execution_count": null,
   "id": "75f9d4e3-e419-4bd6-9c55-574f48888544",
   "metadata": {},
   "outputs": [],
   "source": []
  },
  {
   "cell_type": "code",
   "execution_count": null,
   "id": "6a69d423-e5f1-43a8-8034-8aef6d1c4b35",
   "metadata": {},
   "outputs": [],
   "source": []
  },
  {
   "cell_type": "code",
   "execution_count": null,
   "id": "d290dd0d-b5b7-4291-96d8-561dea58adc6",
   "metadata": {},
   "outputs": [],
   "source": []
  },
  {
   "cell_type": "code",
   "execution_count": null,
   "id": "0ff3ea24-ec4b-4700-88f3-14dd017c9733",
   "metadata": {},
   "outputs": [],
   "source": []
  },
  {
   "cell_type": "code",
   "execution_count": null,
   "id": "b6bb9053-8ddd-444a-9b9c-b18928c5264c",
   "metadata": {},
   "outputs": [],
   "source": []
  },
  {
   "cell_type": "code",
   "execution_count": null,
   "id": "c30214ff-f386-4a29-8b97-36ded36c2ff5",
   "metadata": {},
   "outputs": [],
   "source": []
  },
  {
   "cell_type": "code",
   "execution_count": null,
   "id": "fcf74af6-4074-4392-bc52-b8479b7c1b6c",
   "metadata": {},
   "outputs": [],
   "source": []
  },
  {
   "cell_type": "code",
   "execution_count": null,
   "id": "2ce181be-f278-4da5-9299-b2b3914b7801",
   "metadata": {},
   "outputs": [],
   "source": []
  }
 ],
 "metadata": {
  "kernelspec": {
   "display_name": "R",
   "language": "R",
   "name": "ir"
  },
  "language_info": {
   "codemirror_mode": "r",
   "file_extension": ".r",
   "mimetype": "text/x-r-source",
   "name": "R",
   "pygments_lexer": "r",
   "version": "4.3.3"
  }
 },
 "nbformat": 4,
 "nbformat_minor": 5
}
