{
 "cells": [
  {
   "cell_type": "markdown",
   "id": "1fc302ff-77fa-4176-b5b0-95f5dcccc95b",
   "metadata": {},
   "source": [
    "# LIBRARIES"
   ]
  },
  {
   "cell_type": "code",
   "execution_count": 1,
   "id": "fb58bbc6-f28a-4e65-8798-8f4a9152ba2e",
   "metadata": {},
   "outputs": [
    {
     "name": "stderr",
     "output_type": "stream",
     "text": [
      "── \u001b[1mAttaching core tidyverse packages\u001b[22m ──────────────────────── tidyverse 2.0.0 ──\n",
      "\u001b[32m✔\u001b[39m \u001b[34mdplyr    \u001b[39m 1.1.4     \u001b[32m✔\u001b[39m \u001b[34mreadr    \u001b[39m 2.1.5\n",
      "\u001b[32m✔\u001b[39m \u001b[34mforcats  \u001b[39m 1.0.0     \u001b[32m✔\u001b[39m \u001b[34mstringr  \u001b[39m 1.5.1\n",
      "\u001b[32m✔\u001b[39m \u001b[34mggplot2  \u001b[39m 3.5.1     \u001b[32m✔\u001b[39m \u001b[34mtibble   \u001b[39m 3.2.1\n",
      "\u001b[32m✔\u001b[39m \u001b[34mlubridate\u001b[39m 1.9.3     \u001b[32m✔\u001b[39m \u001b[34mtidyr    \u001b[39m 1.3.1\n",
      "\u001b[32m✔\u001b[39m \u001b[34mpurrr    \u001b[39m 1.0.2     \n",
      "── \u001b[1mConflicts\u001b[22m ────────────────────────────────────────── tidyverse_conflicts() ──\n",
      "\u001b[31m✖\u001b[39m \u001b[34mdplyr\u001b[39m::\u001b[32mfilter()\u001b[39m masks \u001b[34mstats\u001b[39m::filter()\n",
      "\u001b[31m✖\u001b[39m \u001b[34mdplyr\u001b[39m::\u001b[32mlag()\u001b[39m    masks \u001b[34mstats\u001b[39m::lag()\n",
      "\u001b[36mℹ\u001b[39m Use the conflicted package (\u001b[3m\u001b[34m<http://conflicted.r-lib.org/>\u001b[39m\u001b[23m) to force all conflicts to become errors\n",
      "\n",
      "Attaching package: ‘MASS’\n",
      "\n",
      "\n",
      "The following object is masked from ‘package:dplyr’:\n",
      "\n",
      "    select\n",
      "\n",
      "\n",
      "Loading required package: carData\n",
      "\n",
      "\n",
      "Attaching package: ‘car’\n",
      "\n",
      "\n",
      "The following object is masked from ‘package:dplyr’:\n",
      "\n",
      "    recode\n",
      "\n",
      "\n",
      "The following object is masked from ‘package:purrr’:\n",
      "\n",
      "    some\n",
      "\n",
      "\n"
     ]
    },
    {
     "name": "stdout",
     "output_type": "stream",
     "text": [
      "[1] \"LIBRARIES LOADED\"\n"
     ]
    }
   ],
   "source": [
    "library(tidyverse)\n",
    "library(repr)\n",
    "library(broom)\n",
    "library(leaps)\n",
    "library(moderndive)\n",
    "library(MASS)\n",
    "library(car)\n",
    "library(rsample)\n",
    "print(\"LIBRARIES LOADED\")"
   ]
  },
  {
   "cell_type": "markdown",
   "id": "d4da223c-6a6f-485b-b341-237e011a9f3f",
   "metadata": {},
   "source": [
    "# DATA AND TIDYING"
   ]
  },
  {
   "cell_type": "code",
   "execution_count": 17,
   "id": "57092939-7689-4749-9e8c-1a20bd9e5494",
   "metadata": {},
   "outputs": [
    {
     "data": {
      "text/html": [
       "<table class=\"dataframe\">\n",
       "<caption>A data.frame: 6 × 13</caption>\n",
       "<thead>\n",
       "\t<tr><th></th><th scope=col>Person.ID</th><th scope=col>Gender</th><th scope=col>Age</th><th scope=col>Occupation</th><th scope=col>Sleep.Duration</th><th scope=col>Quality.of.Sleep</th><th scope=col>Physical.Activity.Level</th><th scope=col>Stress.Level</th><th scope=col>BMI.Category</th><th scope=col>Blood.Pressure</th><th scope=col>Heart.Rate</th><th scope=col>Daily.Steps</th><th scope=col>Sleep.Disorder</th></tr>\n",
       "\t<tr><th></th><th scope=col>&lt;int&gt;</th><th scope=col>&lt;chr&gt;</th><th scope=col>&lt;int&gt;</th><th scope=col>&lt;chr&gt;</th><th scope=col>&lt;dbl&gt;</th><th scope=col>&lt;int&gt;</th><th scope=col>&lt;int&gt;</th><th scope=col>&lt;int&gt;</th><th scope=col>&lt;chr&gt;</th><th scope=col>&lt;chr&gt;</th><th scope=col>&lt;int&gt;</th><th scope=col>&lt;int&gt;</th><th scope=col>&lt;chr&gt;</th></tr>\n",
       "</thead>\n",
       "<tbody>\n",
       "\t<tr><th scope=row>1</th><td>1</td><td>Male</td><td>27</td><td>Software Engineer   </td><td>6.1</td><td>6</td><td>42</td><td>6</td><td>Overweight</td><td>126/83</td><td>77</td><td> 4200</td><td>None       </td></tr>\n",
       "\t<tr><th scope=row>2</th><td>2</td><td>Male</td><td>28</td><td>Doctor              </td><td>6.2</td><td>6</td><td>60</td><td>8</td><td>Normal    </td><td>125/80</td><td>75</td><td>10000</td><td>None       </td></tr>\n",
       "\t<tr><th scope=row>3</th><td>3</td><td>Male</td><td>28</td><td>Doctor              </td><td>6.2</td><td>6</td><td>60</td><td>8</td><td>Normal    </td><td>125/80</td><td>75</td><td>10000</td><td>None       </td></tr>\n",
       "\t<tr><th scope=row>4</th><td>4</td><td>Male</td><td>28</td><td>Sales Representative</td><td>5.9</td><td>4</td><td>30</td><td>8</td><td>Obese     </td><td>140/90</td><td>85</td><td> 3000</td><td>Sleep Apnea</td></tr>\n",
       "\t<tr><th scope=row>5</th><td>5</td><td>Male</td><td>28</td><td>Sales Representative</td><td>5.9</td><td>4</td><td>30</td><td>8</td><td>Obese     </td><td>140/90</td><td>85</td><td> 3000</td><td>Sleep Apnea</td></tr>\n",
       "\t<tr><th scope=row>6</th><td>6</td><td>Male</td><td>28</td><td>Software Engineer   </td><td>5.9</td><td>4</td><td>30</td><td>8</td><td>Obese     </td><td>140/90</td><td>85</td><td> 3000</td><td>Insomnia   </td></tr>\n",
       "</tbody>\n",
       "</table>\n"
      ],
      "text/latex": [
       "A data.frame: 6 × 13\n",
       "\\begin{tabular}{r|lllllllllllll}\n",
       "  & Person.ID & Gender & Age & Occupation & Sleep.Duration & Quality.of.Sleep & Physical.Activity.Level & Stress.Level & BMI.Category & Blood.Pressure & Heart.Rate & Daily.Steps & Sleep.Disorder\\\\\n",
       "  & <int> & <chr> & <int> & <chr> & <dbl> & <int> & <int> & <int> & <chr> & <chr> & <int> & <int> & <chr>\\\\\n",
       "\\hline\n",
       "\t1 & 1 & Male & 27 & Software Engineer    & 6.1 & 6 & 42 & 6 & Overweight & 126/83 & 77 &  4200 & None       \\\\\n",
       "\t2 & 2 & Male & 28 & Doctor               & 6.2 & 6 & 60 & 8 & Normal     & 125/80 & 75 & 10000 & None       \\\\\n",
       "\t3 & 3 & Male & 28 & Doctor               & 6.2 & 6 & 60 & 8 & Normal     & 125/80 & 75 & 10000 & None       \\\\\n",
       "\t4 & 4 & Male & 28 & Sales Representative & 5.9 & 4 & 30 & 8 & Obese      & 140/90 & 85 &  3000 & Sleep Apnea\\\\\n",
       "\t5 & 5 & Male & 28 & Sales Representative & 5.9 & 4 & 30 & 8 & Obese      & 140/90 & 85 &  3000 & Sleep Apnea\\\\\n",
       "\t6 & 6 & Male & 28 & Software Engineer    & 5.9 & 4 & 30 & 8 & Obese      & 140/90 & 85 &  3000 & Insomnia   \\\\\n",
       "\\end{tabular}\n"
      ],
      "text/markdown": [
       "\n",
       "A data.frame: 6 × 13\n",
       "\n",
       "| <!--/--> | Person.ID &lt;int&gt; | Gender &lt;chr&gt; | Age &lt;int&gt; | Occupation &lt;chr&gt; | Sleep.Duration &lt;dbl&gt; | Quality.of.Sleep &lt;int&gt; | Physical.Activity.Level &lt;int&gt; | Stress.Level &lt;int&gt; | BMI.Category &lt;chr&gt; | Blood.Pressure &lt;chr&gt; | Heart.Rate &lt;int&gt; | Daily.Steps &lt;int&gt; | Sleep.Disorder &lt;chr&gt; |\n",
       "|---|---|---|---|---|---|---|---|---|---|---|---|---|---|\n",
       "| 1 | 1 | Male | 27 | Software Engineer    | 6.1 | 6 | 42 | 6 | Overweight | 126/83 | 77 |  4200 | None        |\n",
       "| 2 | 2 | Male | 28 | Doctor               | 6.2 | 6 | 60 | 8 | Normal     | 125/80 | 75 | 10000 | None        |\n",
       "| 3 | 3 | Male | 28 | Doctor               | 6.2 | 6 | 60 | 8 | Normal     | 125/80 | 75 | 10000 | None        |\n",
       "| 4 | 4 | Male | 28 | Sales Representative | 5.9 | 4 | 30 | 8 | Obese      | 140/90 | 85 |  3000 | Sleep Apnea |\n",
       "| 5 | 5 | Male | 28 | Sales Representative | 5.9 | 4 | 30 | 8 | Obese      | 140/90 | 85 |  3000 | Sleep Apnea |\n",
       "| 6 | 6 | Male | 28 | Software Engineer    | 5.9 | 4 | 30 | 8 | Obese      | 140/90 | 85 |  3000 | Insomnia    |\n",
       "\n"
      ],
      "text/plain": [
       "  Person.ID Gender Age Occupation           Sleep.Duration Quality.of.Sleep\n",
       "1 1         Male   27  Software Engineer    6.1            6               \n",
       "2 2         Male   28  Doctor               6.2            6               \n",
       "3 3         Male   28  Doctor               6.2            6               \n",
       "4 4         Male   28  Sales Representative 5.9            4               \n",
       "5 5         Male   28  Sales Representative 5.9            4               \n",
       "6 6         Male   28  Software Engineer    5.9            4               \n",
       "  Physical.Activity.Level Stress.Level BMI.Category Blood.Pressure Heart.Rate\n",
       "1 42                      6            Overweight   126/83         77        \n",
       "2 60                      8            Normal       125/80         75        \n",
       "3 60                      8            Normal       125/80         75        \n",
       "4 30                      8            Obese        140/90         85        \n",
       "5 30                      8            Obese        140/90         85        \n",
       "6 30                      8            Obese        140/90         85        \n",
       "  Daily.Steps Sleep.Disorder\n",
       "1  4200       None          \n",
       "2 10000       None          \n",
       "3 10000       None          \n",
       "4  3000       Sleep Apnea   \n",
       "5  3000       Sleep Apnea   \n",
       "6  3000       Insomnia      "
      ]
     },
     "metadata": {},
     "output_type": "display_data"
    }
   ],
   "source": [
    "file_url <- \"https://drive.google.com/uc?export=download&id=1ZjZvLl5dUzHEF8ouimlTg8t0MorhjzVA\"\n",
    "sleep_data <- read.csv(file_url)\n",
    "head(sleep_data)\n",
    "set.seed(114514) # SEED, DO NOT CHANGE"
   ]
  },
  {
   "cell_type": "code",
   "execution_count": 20,
   "id": "0eb665ad-63a4-4846-a374-bc70db8a9f78",
   "metadata": {},
   "outputs": [
    {
     "data": {
      "text/html": [
       "<table class=\"dataframe\">\n",
       "<caption>A data.frame: 6 × 8</caption>\n",
       "<thead>\n",
       "\t<tr><th></th><th scope=col>Age</th><th scope=col>Occupation</th><th scope=col>Sleep_Duration</th><th scope=col>Quality_of_Sleep</th><th scope=col>Physical_Activity_Level</th><th scope=col>Stress_Level</th><th scope=col>BMI_Category</th><th scope=col>Sleep_Disorder</th></tr>\n",
       "\t<tr><th></th><th scope=col>&lt;int&gt;</th><th scope=col>&lt;fct&gt;</th><th scope=col>&lt;dbl&gt;</th><th scope=col>&lt;int&gt;</th><th scope=col>&lt;int&gt;</th><th scope=col>&lt;int&gt;</th><th scope=col>&lt;fct&gt;</th><th scope=col>&lt;fct&gt;</th></tr>\n",
       "</thead>\n",
       "<tbody>\n",
       "\t<tr><th scope=row>1</th><td>27</td><td>Software Engineer   </td><td>6.1</td><td>6</td><td>42</td><td>6</td><td>Overweight</td><td>False</td></tr>\n",
       "\t<tr><th scope=row>2</th><td>28</td><td>Doctor              </td><td>6.2</td><td>6</td><td>60</td><td>8</td><td>Normal    </td><td>False</td></tr>\n",
       "\t<tr><th scope=row>3</th><td>28</td><td>Doctor              </td><td>6.2</td><td>6</td><td>60</td><td>8</td><td>Normal    </td><td>False</td></tr>\n",
       "\t<tr><th scope=row>4</th><td>28</td><td>Sales Representative</td><td>5.9</td><td>4</td><td>30</td><td>8</td><td>Obese     </td><td>True </td></tr>\n",
       "\t<tr><th scope=row>5</th><td>28</td><td>Sales Representative</td><td>5.9</td><td>4</td><td>30</td><td>8</td><td>Obese     </td><td>True </td></tr>\n",
       "\t<tr><th scope=row>6</th><td>28</td><td>Software Engineer   </td><td>5.9</td><td>4</td><td>30</td><td>8</td><td>Obese     </td><td>True </td></tr>\n",
       "</tbody>\n",
       "</table>\n"
      ],
      "text/latex": [
       "A data.frame: 6 × 8\n",
       "\\begin{tabular}{r|llllllll}\n",
       "  & Age & Occupation & Sleep\\_Duration & Quality\\_of\\_Sleep & Physical\\_Activity\\_Level & Stress\\_Level & BMI\\_Category & Sleep\\_Disorder\\\\\n",
       "  & <int> & <fct> & <dbl> & <int> & <int> & <int> & <fct> & <fct>\\\\\n",
       "\\hline\n",
       "\t1 & 27 & Software Engineer    & 6.1 & 6 & 42 & 6 & Overweight & False\\\\\n",
       "\t2 & 28 & Doctor               & 6.2 & 6 & 60 & 8 & Normal     & False\\\\\n",
       "\t3 & 28 & Doctor               & 6.2 & 6 & 60 & 8 & Normal     & False\\\\\n",
       "\t4 & 28 & Sales Representative & 5.9 & 4 & 30 & 8 & Obese      & True \\\\\n",
       "\t5 & 28 & Sales Representative & 5.9 & 4 & 30 & 8 & Obese      & True \\\\\n",
       "\t6 & 28 & Software Engineer    & 5.9 & 4 & 30 & 8 & Obese      & True \\\\\n",
       "\\end{tabular}\n"
      ],
      "text/markdown": [
       "\n",
       "A data.frame: 6 × 8\n",
       "\n",
       "| <!--/--> | Age &lt;int&gt; | Occupation &lt;fct&gt; | Sleep_Duration &lt;dbl&gt; | Quality_of_Sleep &lt;int&gt; | Physical_Activity_Level &lt;int&gt; | Stress_Level &lt;int&gt; | BMI_Category &lt;fct&gt; | Sleep_Disorder &lt;fct&gt; |\n",
       "|---|---|---|---|---|---|---|---|---|\n",
       "| 1 | 27 | Software Engineer    | 6.1 | 6 | 42 | 6 | Overweight | False |\n",
       "| 2 | 28 | Doctor               | 6.2 | 6 | 60 | 8 | Normal     | False |\n",
       "| 3 | 28 | Doctor               | 6.2 | 6 | 60 | 8 | Normal     | False |\n",
       "| 4 | 28 | Sales Representative | 5.9 | 4 | 30 | 8 | Obese      | True  |\n",
       "| 5 | 28 | Sales Representative | 5.9 | 4 | 30 | 8 | Obese      | True  |\n",
       "| 6 | 28 | Software Engineer    | 5.9 | 4 | 30 | 8 | Obese      | True  |\n",
       "\n"
      ],
      "text/plain": [
       "  Age Occupation           Sleep_Duration Quality_of_Sleep\n",
       "1 27  Software Engineer    6.1            6               \n",
       "2 28  Doctor               6.2            6               \n",
       "3 28  Doctor               6.2            6               \n",
       "4 28  Sales Representative 5.9            4               \n",
       "5 28  Sales Representative 5.9            4               \n",
       "6 28  Software Engineer    5.9            4               \n",
       "  Physical_Activity_Level Stress_Level BMI_Category Sleep_Disorder\n",
       "1 42                      6            Overweight   False         \n",
       "2 60                      8            Normal       False         \n",
       "3 60                      8            Normal       False         \n",
       "4 30                      8            Obese        True          \n",
       "5 30                      8            Obese        True          \n",
       "6 30                      8            Obese        True          "
      ]
     },
     "metadata": {},
     "output_type": "display_data"
    },
    {
     "data": {
      "text/html": [
       "374"
      ],
      "text/latex": [
       "374"
      ],
      "text/markdown": [
       "374"
      ],
      "text/plain": [
       "[1] 374"
      ]
     },
     "metadata": {},
     "output_type": "display_data"
    }
   ],
   "source": [
    "sleep_data_reduced <- sleep_data %>%\n",
    "  dplyr::select(-any_of(c(\"Person.ID\", \"Gender\", \"Blood.Pressure\", \"Heart.Rate\", \"Daily.Steps\")))\n",
    "new_names <- c(\n",
    "  \"Age\", \"Occupation\", \"Sleep_Duration\", \n",
    "  \"Quality_of_Sleep\", \"Physical_Activity_Level\", \"Stress_Level\", \n",
    "  \"BMI_Category\",\n",
    "  \"Sleep_Disorder\"\n",
    ")\n",
    "names(sleep_data_reduced)<- new_names\n",
    "sleep_data_reduced<- sleep_data_reduced|>mutate(BMI_Category = as.factor(BMI_Category), Occupation = as.factor(Occupation))\n",
    "sleep_data_reduced<- sleep_data_reduced|>mutate(Sleep_Disorder= ifelse(Sleep_Disorder==\"None\", \"False\", \"True\"))\n",
    "sleep_data_reduced<- sleep_data_reduced|>mutate(Sleep_Disorder = as.factor(Sleep_Disorder))\n",
    "head(sleep_data_reduced) \n",
    "nrow(sleep_data_reduced)"
   ]
  },
  {
   "cell_type": "markdown",
   "id": "f98c0058-6ccc-4a85-97ec-0b86c0451ad7",
   "metadata": {},
   "source": [
    "# IMPLEMENTATION\n",
    "QUESTION: ASSOCIATION BETWEEN SLEEP DURATION (RESPONSE) AND OTHER VARIABLES.\n",
    "\n",
    "HERE WE SPLIT THE DATA TO TRAINING/TESTING, 70/30 BEFORE DOING THE FIRST VIF CHECK."
   ]
  },
  {
   "cell_type": "code",
   "execution_count": 33,
   "id": "c4d2baef-333c-4db0-afd1-113cc394ab39",
   "metadata": {},
   "outputs": [
    {
     "name": "stdout",
     "output_type": "stream",
     "text": [
      "[1] \"TRAINING N-ROWS 260\"\n",
      "[1] \"TESTING N-ROWS 114\"\n"
     ]
    }
   ],
   "source": [
    "# SPLITTING\n",
    "# SPLIT DATA BEFORE FIRST VIF CHECK\n",
    "\n",
    "data_split <- sleep_data_reduced |> initial_split(prop = 0.7, strata = Sleep_Duration)\n",
    "sleep_train <- training(data_split)\n",
    "sleep_test <- testing(data_split)\n",
    "print(paste(\"TRAINING N-ROWS\", nrow(sleep_train)))\n",
    "print(paste(\"TESTING N-ROWS\", nrow(sleep_test)))"
   ]
  },
  {
   "cell_type": "code",
   "execution_count": 28,
   "id": "cae246e9-8004-4e7c-9654-e6a701bd8fb6",
   "metadata": {},
   "outputs": [
    {
     "data": {
      "text/html": [
       "<table class=\"dataframe\">\n",
       "<caption>A matrix: 7 × 3 of type dbl</caption>\n",
       "<thead>\n",
       "\t<tr><th></th><th scope=col>GVIF</th><th scope=col>Df</th><th scope=col>GVIF^(1/(2*Df))</th></tr>\n",
       "</thead>\n",
       "<tbody>\n",
       "\t<tr><th scope=row>Age</th><td> 7.801410</td><td>1</td><td>2.793100</td></tr>\n",
       "\t<tr><th scope=row>Occupation</th><td>43.727605</td><td>9</td><td>1.233540</td></tr>\n",
       "\t<tr><th scope=row>Quality_of_Sleep</th><td>24.223310</td><td>1</td><td>4.921718</td></tr>\n",
       "\t<tr><th scope=row>Physical_Activity_Level</th><td> 1.732772</td><td>1</td><td>1.316348</td></tr>\n",
       "\t<tr><th scope=row>Stress_Level</th><td>14.733625</td><td>1</td><td>3.838440</td></tr>\n",
       "\t<tr><th scope=row>BMI_Category</th><td>14.049277</td><td>3</td><td>1.553373</td></tr>\n",
       "\t<tr><th scope=row>Sleep_Disorder</th><td> 3.914628</td><td>1</td><td>1.978542</td></tr>\n",
       "</tbody>\n",
       "</table>\n"
      ],
      "text/latex": [
       "A matrix: 7 × 3 of type dbl\n",
       "\\begin{tabular}{r|lll}\n",
       "  & GVIF & Df & GVIF\\textasciicircum{}(1/(2*Df))\\\\\n",
       "\\hline\n",
       "\tAge &  7.801410 & 1 & 2.793100\\\\\n",
       "\tOccupation & 43.727605 & 9 & 1.233540\\\\\n",
       "\tQuality\\_of\\_Sleep & 24.223310 & 1 & 4.921718\\\\\n",
       "\tPhysical\\_Activity\\_Level &  1.732772 & 1 & 1.316348\\\\\n",
       "\tStress\\_Level & 14.733625 & 1 & 3.838440\\\\\n",
       "\tBMI\\_Category & 14.049277 & 3 & 1.553373\\\\\n",
       "\tSleep\\_Disorder &  3.914628 & 1 & 1.978542\\\\\n",
       "\\end{tabular}\n"
      ],
      "text/markdown": [
       "\n",
       "A matrix: 7 × 3 of type dbl\n",
       "\n",
       "| <!--/--> | GVIF | Df | GVIF^(1/(2*Df)) |\n",
       "|---|---|---|---|\n",
       "| Age |  7.801410 | 1 | 2.793100 |\n",
       "| Occupation | 43.727605 | 9 | 1.233540 |\n",
       "| Quality_of_Sleep | 24.223310 | 1 | 4.921718 |\n",
       "| Physical_Activity_Level |  1.732772 | 1 | 1.316348 |\n",
       "| Stress_Level | 14.733625 | 1 | 3.838440 |\n",
       "| BMI_Category | 14.049277 | 3 | 1.553373 |\n",
       "| Sleep_Disorder |  3.914628 | 1 | 1.978542 |\n",
       "\n"
      ],
      "text/plain": [
       "                        GVIF      Df GVIF^(1/(2*Df))\n",
       "Age                      7.801410 1  2.793100       \n",
       "Occupation              43.727605 9  1.233540       \n",
       "Quality_of_Sleep        24.223310 1  4.921718       \n",
       "Physical_Activity_Level  1.732772 1  1.316348       \n",
       "Stress_Level            14.733625 1  3.838440       \n",
       "BMI_Category            14.049277 3  1.553373       \n",
       "Sleep_Disorder           3.914628 1  1.978542       "
      ]
     },
     "metadata": {},
     "output_type": "display_data"
    }
   ],
   "source": [
    "# FIRST VIF CHECK\n",
    "sleep_full <- lm(Sleep_Duration~., data=sleep_train)\n",
    "vif(sleep_full)"
   ]
  },
  {
   "cell_type": "markdown",
   "id": "9836b2c0-0dbe-449f-9fef-14ecd15c9e97",
   "metadata": {},
   "source": [
    "High scaled-GVIF:\n",
    "\n",
    "Quality_of_Sleep, Stress_Level"
   ]
  },
  {
   "cell_type": "code",
   "execution_count": 30,
   "id": "4f3ae434-d14a-478c-b744-47a1f58edd93",
   "metadata": {},
   "outputs": [
    {
     "name": "stdout",
     "output_type": "stream",
     "text": [
      "Start:  AIC=-560.67\n",
      "Sleep_Duration ~ Age + Occupation + Quality_of_Sleep + Physical_Activity_Level + \n",
      "    Stress_Level + BMI_Category + Sleep_Disorder\n",
      "\n",
      "                          Df Sum of Sq    RSS     AIC\n",
      "- BMI_Category             3    0.1956 20.672 -574.88\n",
      "- Age                      1    0.0031 20.480 -566.19\n",
      "- Sleep_Disorder           1    0.1354 20.612 -564.52\n",
      "<none>                                 20.476 -560.67\n",
      "- Quality_of_Sleep         1    0.7659 21.242 -556.69\n",
      "- Physical_Activity_Level  1    2.7586 23.235 -533.37\n",
      "- Stress_Level             1    3.4964 23.973 -525.25\n",
      "- Occupation               9   11.9036 32.380 -491.57\n",
      "\n",
      "Step:  AIC=-574.88\n",
      "Sleep_Duration ~ Age + Occupation + Quality_of_Sleep + Physical_Activity_Level + \n",
      "    Stress_Level + Sleep_Disorder\n",
      "\n",
      "                          Df Sum of Sq    RSS     AIC\n",
      "- Age                      1    0.0291 20.701 -580.08\n",
      "- Sleep_Disorder           1    0.0605 20.733 -579.68\n",
      "<none>                                 20.672 -574.88\n",
      "- Quality_of_Sleep         1    1.0806 21.753 -567.20\n",
      "- Physical_Activity_Level  1    2.6647 23.337 -548.92\n",
      "- Stress_Level             1    3.5753 24.247 -538.97\n",
      "- Occupation               9   14.5279 35.200 -486.54\n",
      "\n",
      "Step:  AIC=-580.08\n",
      "Sleep_Duration ~ Occupation + Quality_of_Sleep + Physical_Activity_Level + \n",
      "    Stress_Level + Sleep_Disorder\n",
      "\n",
      "                          Df Sum of Sq    RSS     AIC\n",
      "- Sleep_Disorder           1    0.0343 20.735 -585.21\n",
      "<none>                                 20.701 -580.08\n",
      "- Quality_of_Sleep         1    1.3415 22.043 -569.31\n",
      "- Physical_Activity_Level  1    2.9843 23.685 -550.62\n",
      "- Stress_Level             1    4.3390 25.040 -536.16\n",
      "- Occupation               9   14.6321 35.333 -491.12\n",
      "\n",
      "Step:  AIC=-585.21\n",
      "Sleep_Duration ~ Occupation + Quality_of_Sleep + Physical_Activity_Level + \n",
      "    Stress_Level\n",
      "\n",
      "                          Df Sum of Sq    RSS     AIC\n",
      "<none>                                 20.735 -585.21\n",
      "- Quality_of_Sleep         1    1.3076 22.043 -574.87\n",
      "- Physical_Activity_Level  1    2.9895 23.725 -555.75\n",
      "- Stress_Level             1    4.4156 25.151 -540.58\n",
      "- Occupation               9   16.7654 37.501 -481.20\n"
     ]
    },
    {
     "data": {
      "text/plain": [
       "\n",
       "Call:\n",
       "lm(formula = Sleep_Duration ~ Occupation + Quality_of_Sleep + \n",
       "    Physical_Activity_Level + Stress_Level, data = sleep_train)\n",
       "\n",
       "Residuals:\n",
       "     Min       1Q   Median       3Q      Max \n",
       "-0.72599 -0.18718 -0.06338  0.19325  1.00551 \n",
       "\n",
       "Coefficients:\n",
       "                                Estimate Std. Error t value Pr(>|t|)    \n",
       "(Intercept)                     6.153200   0.579325  10.621  < 2e-16 ***\n",
       "OccupationDoctor                0.724477   0.074562   9.716  < 2e-16 ***\n",
       "OccupationEngineer              0.661247   0.073493   8.997  < 2e-16 ***\n",
       "OccupationLawyer                0.377713   0.080239   4.707 4.18e-06 ***\n",
       "OccupationNurse                 0.184055   0.075662   2.433 0.015701 *  \n",
       "OccupationSales Representative  0.716432   0.313788   2.283 0.023270 *  \n",
       "OccupationSalesperson           0.430080   0.093035   4.623 6.11e-06 ***\n",
       "OccupationScientist             0.383741   0.197964   1.938 0.053709 .  \n",
       "OccupationSoftware Engineer     0.397608   0.158845   2.503 0.012957 *  \n",
       "OccupationTeacher              -0.093405   0.091465  -1.021 0.308153    \n",
       "Quality_of_Sleep                0.218153   0.055275   3.947 0.000103 ***\n",
       "Physical_Activity_Level         0.006388   0.001070   5.967 8.32e-09 ***\n",
       "Stress_Level                   -0.254233   0.035055  -7.252 5.25e-12 ***\n",
       "---\n",
       "Signif. codes:  0 ‘***’ 0.001 ‘**’ 0.01 ‘*’ 0.05 ‘.’ 0.1 ‘ ’ 1\n",
       "\n",
       "Residual standard error: 0.2897 on 247 degrees of freedom\n",
       "Multiple R-squared:  0.8737,\tAdjusted R-squared:  0.8676 \n",
       "F-statistic: 142.4 on 12 and 247 DF,  p-value: < 2.2e-16\n"
      ]
     },
     "metadata": {},
     "output_type": "display_data"
    }
   ],
   "source": [
    "# STEP AIC\n",
    "aic_model <- stepAIC(sleep_full, direction = \"backward\", k = log(nrow(sleep_train)))\n",
    "summary(aic_model)"
   ]
  },
  {
   "cell_type": "code",
   "execution_count": 31,
   "id": "263bd69d-f60f-4504-9778-35f2bc16512e",
   "metadata": {},
   "outputs": [
    {
     "data": {
      "text/html": [
       "<table class=\"dataframe\">\n",
       "<caption>A matrix: 4 × 3 of type dbl</caption>\n",
       "<thead>\n",
       "\t<tr><th></th><th scope=col>GVIF</th><th scope=col>Df</th><th scope=col>GVIF^(1/(2*Df))</th></tr>\n",
       "</thead>\n",
       "<tbody>\n",
       "\t<tr><th scope=row>Occupation</th><td> 5.195102</td><td>9</td><td>1.095860</td></tr>\n",
       "\t<tr><th scope=row>Quality_of_Sleep</th><td>13.791710</td><td>1</td><td>3.713719</td></tr>\n",
       "\t<tr><th scope=row>Physical_Activity_Level</th><td> 1.548737</td><td>1</td><td>1.244482</td></tr>\n",
       "\t<tr><th scope=row>Stress_Level</th><td>11.900038</td><td>1</td><td>3.449643</td></tr>\n",
       "</tbody>\n",
       "</table>\n"
      ],
      "text/latex": [
       "A matrix: 4 × 3 of type dbl\n",
       "\\begin{tabular}{r|lll}\n",
       "  & GVIF & Df & GVIF\\textasciicircum{}(1/(2*Df))\\\\\n",
       "\\hline\n",
       "\tOccupation &  5.195102 & 9 & 1.095860\\\\\n",
       "\tQuality\\_of\\_Sleep & 13.791710 & 1 & 3.713719\\\\\n",
       "\tPhysical\\_Activity\\_Level &  1.548737 & 1 & 1.244482\\\\\n",
       "\tStress\\_Level & 11.900038 & 1 & 3.449643\\\\\n",
       "\\end{tabular}\n"
      ],
      "text/markdown": [
       "\n",
       "A matrix: 4 × 3 of type dbl\n",
       "\n",
       "| <!--/--> | GVIF | Df | GVIF^(1/(2*Df)) |\n",
       "|---|---|---|---|\n",
       "| Occupation |  5.195102 | 9 | 1.095860 |\n",
       "| Quality_of_Sleep | 13.791710 | 1 | 3.713719 |\n",
       "| Physical_Activity_Level |  1.548737 | 1 | 1.244482 |\n",
       "| Stress_Level | 11.900038 | 1 | 3.449643 |\n",
       "\n"
      ],
      "text/plain": [
       "                        GVIF      Df GVIF^(1/(2*Df))\n",
       "Occupation               5.195102 9  1.095860       \n",
       "Quality_of_Sleep        13.791710 1  3.713719       \n",
       "Physical_Activity_Level  1.548737 1  1.244482       \n",
       "Stress_Level            11.900038 1  3.449643       "
      ]
     },
     "metadata": {},
     "output_type": "display_data"
    }
   ],
   "source": [
    "# 2ND VIF WITH AIC MODEL\n",
    "vif(aic_model)"
   ]
  },
  {
   "cell_type": "markdown",
   "id": "166fac81-e869-4bde-a3d3-39526371177d",
   "metadata": {},
   "source": [
    "REMOVED AFTER STEP-AIC:\n",
    "\n",
    "Age, BMI_Category, Sleep_Disorder."
   ]
  },
  {
   "cell_type": "markdown",
   "id": "11331387-0541-4885-bced-c277a3f0b1f2",
   "metadata": {},
   "source": [
    "# VALIDATION"
   ]
  },
  {
   "cell_type": "code",
   "execution_count": 36,
   "id": "2520bb0e-314b-4082-a8be-3ad03fd683c6",
   "metadata": {},
   "outputs": [
    {
     "name": "stdout",
     "output_type": "stream",
     "text": [
      "     RMSE       MAE        R2 \n",
      "0.2839613 0.2147667 0.8723937 \n"
     ]
    }
   ],
   "source": [
    "pred_test <- predict(aic_model, newdata = sleep_test)\n",
    "\n",
    "actual <- sleep_test$Sleep_Duration\n",
    "resid <- actual - pred_test\n",
    "\n",
    "RMSE <- sqrt(mean(resid^2))\n",
    "MAE <- mean(abs(resid))\n",
    "R2 <- 1 - sum(resid^2) / sum((actual - mean(actual))^2)\n",
    "\n",
    "print(c(RMSE = RMSE, MAE = MAE, R2 = R2))\n",
    "\n",
    "mean_sleep <- mean(sleep_test$Sleep_Duration)\n",
    "relative_RMSE <- RMSE / mean_sleep\n",
    "relative_MAE <- MAE / mean_sleep\n",
    "\n",
    "print(paste(\"RMSE RELATIVE TO MEAN SLEEP DURATION: \", relative_RMSE, \", good.\"))\n",
    "print(paste(\"MAE RELATIVE TO MEAN SLEEP DURATION: \", relative "
   ]
  },
  {
   "cell_type": "markdown",
   "id": "ae644ba9-ff94-40d0-a37f-f3cdd53b605a",
   "metadata": {},
   "source": [
    "Summary of test-set validation:\n",
    "\n",
    "RMS error: about 0.284 hours sleep duration or 17 minutes.\n",
    "MA error: 0.215 hours or 13 minutes.\n",
    "R^2: 0.872, good."
   ]
  },
  {
   "cell_type": "code",
   "execution_count": null,
   "id": "8e8361b7-2a5a-4620-ac03-a808da33f2fa",
   "metadata": {},
   "outputs": [],
   "source": []
  },
  {
   "cell_type": "code",
   "execution_count": null,
   "id": "bc0c2a0c-fd8f-41a4-8647-93fee3a38785",
   "metadata": {},
   "outputs": [],
   "source": []
  },
  {
   "cell_type": "code",
   "execution_count": null,
   "id": "a68e9527-4488-436c-b25c-406450ce377e",
   "metadata": {},
   "outputs": [],
   "source": []
  },
  {
   "cell_type": "code",
   "execution_count": null,
   "id": "0b066be0-f69e-4b79-9d12-96ebcd1fea67",
   "metadata": {},
   "outputs": [],
   "source": []
  },
  {
   "cell_type": "code",
   "execution_count": null,
   "id": "4ada8148-2895-4672-9662-6266dedb2218",
   "metadata": {},
   "outputs": [],
   "source": []
  },
  {
   "cell_type": "code",
   "execution_count": null,
   "id": "efa54882-9c5d-4182-92c7-d5e50f213835",
   "metadata": {},
   "outputs": [],
   "source": []
  },
  {
   "cell_type": "code",
   "execution_count": null,
   "id": "39a135ea-e37a-415b-b89a-0882e187367a",
   "metadata": {},
   "outputs": [],
   "source": []
  },
  {
   "cell_type": "code",
   "execution_count": null,
   "id": "fb6e66a3-dfbd-4aa6-9edb-b1269d131142",
   "metadata": {},
   "outputs": [],
   "source": []
  },
  {
   "cell_type": "code",
   "execution_count": null,
   "id": "75f9d4e3-e419-4bd6-9c55-574f48888544",
   "metadata": {},
   "outputs": [],
   "source": []
  },
  {
   "cell_type": "code",
   "execution_count": null,
   "id": "6a69d423-e5f1-43a8-8034-8aef6d1c4b35",
   "metadata": {},
   "outputs": [],
   "source": []
  },
  {
   "cell_type": "code",
   "execution_count": null,
   "id": "d290dd0d-b5b7-4291-96d8-561dea58adc6",
   "metadata": {},
   "outputs": [],
   "source": []
  },
  {
   "cell_type": "code",
   "execution_count": null,
   "id": "0ff3ea24-ec4b-4700-88f3-14dd017c9733",
   "metadata": {},
   "outputs": [],
   "source": []
  },
  {
   "cell_type": "code",
   "execution_count": null,
   "id": "b6bb9053-8ddd-444a-9b9c-b18928c5264c",
   "metadata": {},
   "outputs": [],
   "source": []
  },
  {
   "cell_type": "code",
   "execution_count": null,
   "id": "c30214ff-f386-4a29-8b97-36ded36c2ff5",
   "metadata": {},
   "outputs": [],
   "source": []
  },
  {
   "cell_type": "code",
   "execution_count": null,
   "id": "fcf74af6-4074-4392-bc52-b8479b7c1b6c",
   "metadata": {},
   "outputs": [],
   "source": []
  },
  {
   "cell_type": "code",
   "execution_count": null,
   "id": "2ce181be-f278-4da5-9299-b2b3914b7801",
   "metadata": {},
   "outputs": [],
   "source": []
  }
 ],
 "metadata": {
  "kernelspec": {
   "display_name": "R",
   "language": "R",
   "name": "ir"
  },
  "language_info": {
   "codemirror_mode": "r",
   "file_extension": ".r",
   "mimetype": "text/x-r-source",
   "name": "R",
   "pygments_lexer": "r",
   "version": "4.3.3"
  }
 },
 "nbformat": 4,
 "nbformat_minor": 5
}
