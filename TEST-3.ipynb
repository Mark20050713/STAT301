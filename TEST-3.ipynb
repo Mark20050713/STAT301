{
 "cells": [
  {
   "cell_type": "markdown",
   "id": "156d6310",
   "metadata": {},
   "source": [
    "# 1. Title: Construction of an inference model for a multiple linear regression\n",
    "Members:\n",
    "- Mark Cao \n",
    "- Aarush Agarwal\n",
    "- Edward Kim\n",
    "- Ibrahim Saeed\n",
    "  \n",
    "Course: STAT301 102\n",
    "\n",
    "April 16th, 2025\n"
   ]
  },
  {
   "cell_type": "markdown",
   "id": "bf302750",
   "metadata": {},
   "source": [
    "# Library"
   ]
  },
  {
   "cell_type": "code",
   "execution_count": null,
   "id": "564444ae",
   "metadata": {},
   "outputs": [],
   "source": [
    "# Main Developer: Mark\n",
    "\n",
    "library(tidyverse)\n",
    "library(repr)\n",
    "library(broom)\n",
    "library(leaps)\n",
    "library(moderndive)\n",
    "library(MASS)\n",
    "library(car)\n",
    "library(rsample)\n",
    "library(ggplot2)\n",
    "\n",
    "print(\"LIBRARIES LOADED\")"
   ]
  },
  {
   "cell_type": "markdown",
   "id": "17ea64a3",
   "metadata": {},
   "source": [
    "# 2. Introduction\n",
    "\n",
    "Sleep plays a crucial role in maintaining physical and mental health. Disruptions in sleep quality or duration have been consistently associated with increased stress levels, cardiovascular risk, and metabolic issues such as obesity. As lifestyles become more demanding and sedentary, understanding how daily habits impact sleep health is both timely and essential. For this project, we use the Sleep Health and Lifestyle Dataset which contains 374 observations and 13 variables, covering sleep quality, daily activity, stress, and cardiovascular health. It includes numerical and categorical data, such as sleep duration (hours), self-reported sleep quality (1-10 scale), physical activity level (minutes/day), stress level (1-10 scale), BMI category, and presence of sleep disorders (None, Insomnia, Sleep Apnea). This dataset helps analyze the relationship between lifestyle choices and sleep health. \n",
    "\n",
    "Our inference-based research question is as follows:\n",
    "We wish to examine the association between a person's sleep duration and health-routine-related predictors such as BMI, physical activity level, sleep disorder, stress level, etc.\n",
    "Our question is primarily focused on inference, as our goal is to examine association intead of predicting values. By examining the model’s coefficients, we can interpret how each factor contributes to changes in sleep duration, providing insights into potential lifestyle adjustments for better sleep health.\n",
    "\n",
    "There’s already quite a bit of research highlighting how lifestyle choices are connected to sleep health. For example, Grandner (2017) points out that behaviors like physical activity and diet play an important role in sleep quality. Medic et al. (2017) explain how poor sleep can affect both mental and physical health, especially through stress and cardiovascular issues. Similarly, Khan and Aouad (2017) show links between sleep loss and cardiovascular risk factors like high BMI and blood pressure. These studies help back up the relevance of the variables we’re exploring and show why it makes sense to look for associations between them and sleep disorders in this project."
   ]
  },
  {
   "cell_type": "markdown",
   "id": "0b32de2f",
   "metadata": {},
   "source": [
    "# 3. Methods and Results"
   ]
  },
  {
   "cell_type": "markdown",
   "id": "6e88ec1c",
   "metadata": {},
   "source": [
    "### a) Data "
   ]
  },
  {
   "cell_type": "code",
   "execution_count": null,
   "id": "3a66a45a",
   "metadata": {},
   "outputs": [],
   "source": [
    "# Main Developer: Mark\n",
    "\n",
    "file_url <- \"https://drive.google.com/uc?export=download&id=1ZjZvLl5dUzHEF8ouimlTg8t0MorhjzVA\"\n",
    "sleep_data <- read.csv(file_url)\n",
    "head(sleep_data)\n",
    "set.seed(114514) # SEED, DO NOT CHANGE"
   ]
  },
  {
   "cell_type": "markdown",
   "id": "fa25b06a",
   "metadata": {},
   "source": [
    "Dataset used: Laksika Tharmalingam. 2024. Sleep Health and Lifestyle Dataset. Retrieved from https://www.kaggle.com/datasets/uom190346a/sleep-health-and-lifestyle-dataset/data\n",
    "\n",
    "A detailed description of all the variables in the dataset is as follows:-\n",
    "\n",
    "| Variable | Type of Variable | Description |\n",
    "| -------- | --------------- | ----------- |\n",
    "| Person ID | Numeric | Unique identifier for each individual |\n",
    "| Gender | Categorical | Gender of the individual (Male/Female) |\n",
    "| Age | Numeric | Age of the individual in years |\n",
    "| Occupation | Categorical | Job or profession of the individual |\n",
    "| Sleep Duration | Numeric | Number of hours a person sleep per day |\n",
    "| Quality of Sleep | Numeric | Subjective sleep quality rating (1-10) |\n",
    "| Physical Activity Level | Numeric | Minutes of physical activity of an individual per day |\n",
    "| Stress Level | Numeric | Subjective stress level of a person (1-10) |\n",
    "| BMI Category | Categorical | BMI classification (Underweight, Normal, Overweight) |\n",
    "| Blood Pressure  | Numeric | The blood pressure measurement of the person, indicated as systolic pressure over diastolic pressure. |\n",
    "| Heart Rate | Numeric | Resting heart rate in beats per minute |\n",
    "| Daily Steps | Numeric | Number of steps taken per day |\n",
    "| Sleep Disorder | Categorical | Presence of a sleep disorder (None, Insomnia, Sleep Apnea) |\n",
    "\n",
    "#### The source of the dataset states that the set is synthetic and was generated for illustrative purposes."
   ]
  },
  {
   "cell_type": "markdown",
   "id": "a8a9f0e7",
   "metadata": {},
   "source": [
    "### b) Exploratory Data Analysis (EDA)"
   ]
  },
  {
   "cell_type": "markdown",
   "id": "7a36e5eb",
   "metadata": {},
   "source": [
    "#### Tidying and pre-selection\n",
    "\n",
    "Tidying the data for modelling:\n",
    "-  We remove the PersonID column, as it provides no statistical information.\n",
    "-  For readability, we replace all column names, categorical level names, and other string data with versions without periods or whitespace in between characters.\n",
    "-  For readability we replace these column names: \"QualityofSleep\" -> \"SleepQuality\", and \"PysicalActivityLevel\" -> \"PhysicalActivity\".\n",
    "-  We perform factor conversion to all categorical variables.\n",
    "- We replace the \"BloodPressure\" column with two new columns \"SystolicPressure\" and \"DiastolicPressure\" to maintain proper numerical columns for modelling.\n",
    "- For simplicity we replace all \"Obese\" entries in BMICategory with \"Overweight\" so that only two levels remain: \"Normal\" and \"Overweight\"\n",
    "- For simplicity we replace all SleepDisorder entries with either \"None\" for no sleep disorder and \"Present\" for any kind of sleep disorder.\n",
    "- For future interpretability we replace the DailySteps column with Daily1000Steps for the number of daily steps of an individual divided by 1000.\n",
    "- For future interpretability we divide all entries in PhysicalActivity by 60 to represent daily physical activity level of an individual in hours instead of minutes.\n",
    "  \n",
    "We set the reference level for each categorical variable as the following:\n",
    "- BMICategory: \"Normal\"\n",
    "- SleepDisorder: \"None\"\n",
    "- Gender: \"Male\"\n",
    "- Occupation: \"Accountant\"\n",
    "\n",
    "In terms of pre-selection, the only complete removal was the PersonID column.\n"
   ]
  },
  {
   "cell_type": "code",
   "execution_count": null,
   "id": "838b8803",
   "metadata": {},
   "outputs": [],
   "source": [
    "# Edward, Mark\n",
    "\n",
    "sleep_data_reduced <- sleep_data |>\n",
    "dplyr::select(-`Person.ID`) %>%\n",
    "{ names(.) <- names(.) |> str_replace_all(\"[\\\\.\\\\s]\", \"\")\n",
    ".} %>%\n",
    "mutate(Occupation = str_replace_all(Occupation, \"[\\\\.\\\\s]\", \"\")) |>\n",
    "mutate(PhysicalActivityLevel = PhysicalActivityLevel / 60) |>\n",
    "separate(BloodPressure, into = c(\"SystolicPressure\", \"DiastolicPressure\"), sep = \"/\") |>\n",
    "mutate(across(c(SystolicPressure, DiastolicPressure), as.numeric)) |>\n",
    "mutate(BMICategory = if_else(str_detect(BMICategory, \"Obese\"), \"Overweight\", BMICategory)) |>\n",
    "mutate(BMICategory = str_replace(BMICategory, \"Normal Weight\", \"Normal\")) |>\n",
    "mutate(SleepDisorder = if_else(SleepDisorder == \"None\", \"None\", \"Present\")) |>\n",
    "mutate(Daily1000Steps = DailySteps / 1000) |>\n",
    "dplyr::select(-DailySteps) |>\n",
    "rename(SleepQuality = QualityofSleep, PhysicalActivity = PhysicalActivityLevel) |>\n",
    "mutate(\n",
    "    BMICategory = fct_relevel(BMICategory, \"Normal\"),\n",
    "    SleepDisorder = fct_relevel(SleepDisorder, \"None\"),\n",
    "    Gender = fct_relevel(Gender, \"Male\"),\n",
    "    Occupation = fct_relevel(Occupation, \"Accountant\")\n",
    "  ) |>\n",
    "mutate(across(where(is.character), as_factor))\n",
    "\n",
    "head(sleep_data_reduced) \n",
    "nrow(sleep_data_reduced)"
   ]
  },
  {
   "cell_type": "markdown",
   "id": "2efe689f",
   "metadata": {},
   "source": [
    "We note again that the new tidy and pre-selected dataset contains:\n",
    "\n",
    "- \"SleepQuality\" name change from \"QualityofSleep\"\n",
    "- \"PhysicalActivity\" as HOURS of physical activity per day instead of minutes\n",
    "- \"BMICategory\" as either normal or overweight\n",
    "- \"SystolicPressure\" from the systolic part of the blood pressure column\n",
    "- \"DiastolicPressure\" from the diastolic part of the blood pressure column\n",
    "- \"SleepDisorder\" as either None or Present\n",
    "- \"Daily1000Steps\" for steps per day divided by 1000"
   ]
  },
  {
   "cell_type": "code",
   "execution_count": null,
   "id": "0cb690ed",
   "metadata": {},
   "outputs": [],
   "source": [
    "# Main Developer: Aarush\n",
    "\n",
    "plot <- ggplot(sleep_data_reduced, aes(x = StressLevel, y = SleepDuration, color = PhysicalActivity)) +\n",
    "  geom_point(size = 3, alpha = 0.7) +                                                 \n",
    "  labs(title = \"Exploring impact of Stress, Physical Activity, and BMI on Sleep Duration\",\n",
    "       x = \"Stress Level\",\n",
    "       y = \"Sleep Duration (hours)\",\n",
    "       color = \"Physical Activity Level\") +\n",
    "  theme_minimal() +\n",
    "  theme(plot.title = element_text(hjust = 0.1))\n",
    "\n",
    "plot"
   ]
  },
  {
   "cell_type": "markdown",
   "id": "4e4add70",
   "metadata": {},
   "source": [
    "From this scatterplot, we can see higher stress levels are associated with shorter sleep duration. People with more physical activity tend to sleep longer, suggesting that physical activity may help buffer the negative effects of stress on sleep."
   ]
  },
  {
   "cell_type": "code",
   "execution_count": null,
   "id": "7953dc7b",
   "metadata": {},
   "outputs": [],
   "source": [
    "# # Main Developer: Aarush\n",
    "\n",
    "# # FIX ERROR HERE\n",
    "\n",
    "# num_vars <- sleep_data_reduced |>\n",
    "#   dplyr::select(where(is.numeric))\n",
    "# cor_matrix <- round(cor(num_vars, use = \"complete.obs\"), 2)\n",
    "\n",
    "# melted_cor <- melt(cor_matrix)\n",
    "# ggplot(data = melted_cor, aes(x = Var1, y = Var2, fill = value)) +\n",
    "#   geom_tile(color = \"white\") +\n",
    "#   scale_fill_gradient2(low = \"blue\", mid = \"white\", high = \"red\", \n",
    "#                        midpoint = 0, limit = c(-1, 1), name = \"Correlation\") +\n",
    "#   geom_text(aes(label = value), color = \"black\", size = 3) +\n",
    "#   theme_minimal() +\n",
    "#   theme(axis.text.x = element_text(angle = 45, vjust = 1, hjust = 1)) +\n",
    "#   labs(title = \"Correlation Between Numeric Variables\",\n",
    "#        x = \"\", y = \"\")"
   ]
  },
  {
   "cell_type": "markdown",
   "id": "6fe8b26a",
   "metadata": {},
   "source": [
    "In this heatmap, we can see the pairwise correlations between numeric variables. We observe strong negative correlations between Sleep Duration, Sleep Quality, and Stress Level, indicating that higher stress is associated with poorer sleep outcomes. A very strong positive correlation is seen between Systolic and Diastolic Pressure, suggesting potential multicollinearity if both are used in modeling. This visualization helps identify variable relationships and warns of redundant predictors."
   ]
  },
  {
   "cell_type": "code",
   "execution_count": null,
   "id": "151d4459",
   "metadata": {},
   "outputs": [],
   "source": [
    "sum(is.na(sleep_data_reduced))"
   ]
  },
  {
   "cell_type": "markdown",
   "id": "5f93adb3",
   "metadata": {},
   "source": [
    "We can see that there are no NAs in the dataset."
   ]
  },
  {
   "cell_type": "code",
   "execution_count": null,
   "id": "8d06955e",
   "metadata": {},
   "outputs": [],
   "source": [
    "# Main Developer: Aarush\n",
    "\n",
    "sleep_data_reduced %>%\n",
    "  count(BMICategory, SleepDisorder, Gender) %>%\n",
    "  arrange(desc(n))"
   ]
  },
  {
   "cell_type": "markdown",
   "id": "07c00da2",
   "metadata": {},
   "source": [
    "This table shows how participants are grouped by BMI, sleep disorder status, and gender. It helps us check data balance and spot issues like rare categories (e.g., \"Normal Weight\"), which may need fixing before modeling."
   ]
  },
  {
   "cell_type": "markdown",
   "id": "08d1819f",
   "metadata": {},
   "source": [
    "# c) Methods: Plan\n",
    "\n",
    "INFERENCE QUESTION:\n",
    "To determine whether there is an association between the response variable Sleep Duration and various health and routine factors such as Physical Activity, Occupation, Age, and Stress Level.\n",
    "\n",
    "We use multiple linear regression, as the response variable is a cotinuous outcome variable, and because MLR can work with multiple input variables, factors, and categorical variables. MLR is also a common method for inference whihc is the main goal of this project.\n",
    "\n",
    "### Assumptions:\n",
    "- Linear relationship between Sleep duration(response) and the person's physical and mental health(input)\n",
    "- Errors are independent\n",
    "- Conditional distribution of the error term is normal\n",
    "- Variances of the error term are equal\n",
    "- Furthermore, I will use variable selection methods to minimize the effect of multicollinearity.\n",
    "### Potential drawbacks and limitations:\n",
    "- Even though sleep duration is a continuous variable, the relationship might not be perfectly linear\n",
    "- Potential issues with our variable selection step."
   ]
  },
  {
   "cell_type": "markdown",
   "id": "d20b78eb",
   "metadata": {},
   "source": [
    "### Data splitting\n",
    "\n",
    "We first split the data 50%/50% for selection/inference:"
   ]
  },
  {
   "cell_type": "code",
   "execution_count": null,
   "id": "04c53450",
   "metadata": {},
   "outputs": [],
   "source": [
    "# Edward\n",
    "# DATASET SPLITTING\n",
    "\n",
    "# Split data 50% / 50% for selection set and inference set using initial_split()\n",
    "data_split <- sleep_data_reduced |> initial_split(prop = 0.5, strata = SleepDuration)\n",
    "sleep_selection <- training(data_split)\n",
    "sleep_inference <- testing(data_split)\n",
    "\n",
    "# Print the number of rows for each set:\n",
    "print(paste(\"Selection N-ROWS:\", nrow(sleep_selection)))\n",
    "print(paste(\"Inference N-ROWS:\", nrow(sleep_inference)))"
   ]
  },
  {
   "cell_type": "markdown",
   "id": "a9e026b0",
   "metadata": {},
   "source": [
    "### Initial VIF check\n",
    "First we do a quick VIF check on the full model using the selection set:"
   ]
  },
  {
   "cell_type": "code",
   "execution_count": null,
   "id": "45121ed7",
   "metadata": {},
   "outputs": [],
   "source": [
    "# Edward\n",
    "# INITIAL VIF CHECK\n",
    "\n",
    "# Generate full model using selection set\n",
    "sleep_full <- lm(SleepDuration~., data=sleep_selection)\n",
    "# Run VIF on the full model\n",
    "vif(sleep_full)"
   ]
  },
  {
   "cell_type": "markdown",
   "id": "aa15311d",
   "metadata": {},
   "source": [
    "### Variables with high scaled-GVIF:\n",
    "\n",
    "SleepQuality, SystolicPressure, DiastolicPressure."
   ]
  },
  {
   "cell_type": "markdown",
   "id": "4ce2f40c",
   "metadata": {},
   "source": [
    "### VIF-based selection\n",
    "\n",
    "Here we choose to manually remove the \"DiastolicPressure\" column from the model:\n",
    "\n",
    "- Due to multicollinearity with SystolicPressure\n",
    "- To simply the model and increase performance while keeping a similar representation to having both blood pressure values"
   ]
  },
  {
   "cell_type": "code",
   "execution_count": null,
   "id": "96f985e4",
   "metadata": {},
   "outputs": [],
   "source": [
    "# MANUALLY REMOVE PROBLEMATIC DIASTOLIC PRESSURE COLUMN\n",
    "sleep_step_ready <- sleep_data_reduced |>\n",
    "  dplyr::select(-DiastolicPressure)"
   ]
  },
  {
   "cell_type": "code",
   "execution_count": null,
   "id": "9c88f09d",
   "metadata": {},
   "outputs": [],
   "source": [
    "# <<<<<<< REMOTE CELL DELETED >>>>>>>\n",
    "# # Main Developer: Edward\n",
    "# # SPLITTING\n",
    "# data_split <- sleep_step_ready |> initial_split(prop = 0.7, strata = SleepDuration)\n",
    "# sleep_train <- training(data_split)\n",
    "# sleep_test <- testing(data_split)\n",
    "# print(paste(\"TRAINING N-ROWS:\", nrow(sleep_train)))\n",
    "# print(paste(\"TESTING N-ROWS:\", nrow(sleep_test)))"
   ]
  },
  {
   "cell_type": "markdown",
   "id": "dcf8daf6",
   "metadata": {},
   "source": [
    "# Model selection\n",
    "\n",
    "### Explain variable selection method here ***\n",
    "\n",
    "Here we refit the full model and then use the selection set to perform model selection with stepAIC:"
   ]
  },
  {
   "cell_type": "code",
   "execution_count": null,
   "id": "73ed7439",
   "metadata": {},
   "outputs": [],
   "source": [
    "# RE-FIT FULL MODEL WITH SELECTION SET WITH PROBLEMATIC COLUMN REMOVED\n",
    "sleep_full <- lm(SleepDuration~., data=sleep_step_ready)\n",
    "# STEP AIC WITH FULL MODEL FROM SELECTION SET\n",
    "aic_model <- stepAIC(sleep_full, direction = \"backward\", k = log(nrow(sleep_step_ready)))"
   ]
  },
  {
   "cell_type": "code",
   "execution_count": null,
   "id": "144e78d7",
   "metadata": {},
   "outputs": [],
   "source": [
    "full_vars <- attr(terms(sleep_full),\"term.labels\")\n",
    "final_vars <- attr(terms(aic_model),\"term.labels\")\n",
    "dropped_vars <- setdiff(full_vars, final_vars)\n",
    "print(dropped_vars)"
   ]
  },
  {
   "cell_type": "markdown",
   "id": "f845eaa3",
   "metadata": {
    "slideshow": {
     "slide_type": "slide"
    }
   },
   "source": [
    "### Interpretation:\n",
    "\n",
    "These variables were dropped after stepAIC: Age, StressLevel, HeartRate, SleepDisorder.\n",
    "\n"
   ]
  },
  {
   "cell_type": "markdown",
   "id": "4278fd58",
   "metadata": {},
   "source": [
    "# Results\n",
    "\n",
    "Here we run tidy() on the new lm() with stepAIC-selected columns and the inference set to obtain the final result and p values:"
   ]
  },
  {
   "cell_type": "code",
   "execution_count": null,
   "id": "819f9913",
   "metadata": {},
   "outputs": [],
   "source": [
    "inference_results <- tidy(\n",
    "  lm(formula = SleepDuration ~ Gender + Occupation + SleepQuality + \n",
    "      PhysicalActivity + BMICategory + SystolicPressure + Daily1000Steps, \n",
    "      data = sleep_inference)\n",
    ")\n",
    "print(\"1.\")\n",
    "print(\"GENERAL RESULTS OF THE FINAL MODEL:\")\n",
    "print(inference_results)"
   ]
  },
  {
   "cell_type": "markdown",
   "id": "536af516-b16e-407b-9812-2cf898f989a6",
   "metadata": {},
   "source": [
    "### A more interpretable version of the summary table\n",
    "Here we divide the results into two tables: one for Occupation, and one for all other predictors.\n",
    "We are able to to this because the categorical variable \"Occupation\" has 11 levels, while all other categorical variables each have 2 levels."
   ]
  },
  {
   "cell_type": "code",
   "execution_count": null,
   "id": "145e9a67-17c9-4753-8964-766b5a730ba1",
   "metadata": {},
   "outputs": [],
   "source": [
    "inference_results$direction <- ifelse(\n",
    "  inference_results$p.value < 0.05,\n",
    "  ifelse(inference_results$estimate > 0, \"Positive\", \"Negative\"), \"Neither\"\n",
    ")\n",
    "\n",
    "# Split into two groups\n",
    "occupation_vars <- inference_results[grepl(\"^Occupation\", inference_results$term), ]\n",
    "other_vars <- inference_results[\n",
    "  !grepl(\"^Occupation|\\\\(Intercept\\\\)\", inference_results$term),\n",
    "]\n",
    "\n",
    "# Print categorized results\n",
    "print(\"2.\")\n",
    "print(\"OCCUPATION LEVELS (relative to reference: Accountant):\")\n",
    "print(occupation_vars)\n",
    "\n",
    "print(\"3.\")\n",
    "print(\"ALL OTHER PREDICTORS:\")\n",
    "print(other_vars)"
   ]
  },
  {
   "cell_type": "code",
   "execution_count": null,
   "id": "2796ef24",
   "metadata": {},
   "outputs": [],
   "source": [
    "# <<<<<<< REMOTE CELL DELETED >>>>>>>\n",
    "# # Main Developer: Edward\n",
    "# model_results <- tidy(aic_model)\n",
    "# print(\"1.\")\n",
    "# print(\"GENERAL RESULTS OF THE FINAL MODEL:\")\n",
    "# print(model_results)\n",
    "# model_results$direction <- ifelse(\n",
    "#   model_results$p.value < 0.05,\n",
    "#   ifelse(model_results$estimate > 0, \"Positive\", \"Negative\"),\"Neither\")\n",
    "# occupation_vars <- model_results[grepl(\"^Occupation\", model_results$term), ]\n",
    "# sleep_disorder_var <- model_results[grepl(\"^SleepDisorder\", model_results$term), ]\n",
    "# non_occupation_vars <- model_results[!grepl(\"^Occupation|^SleepDisorder|\\\\(Intercept\\\\)\", model_results$term), ]\n",
    "# print(\"2.\")\n",
    "# print(\"OCCUPATION LEVELS (relative to reference: Accountant):\")\n",
    "# print(occupation_vars)\n",
    "# print(\"3.\")\n",
    "# print(\"SLEEP DISORDER VARIABLE (relative to reference: None):\")\n",
    "# print(sleep_disorder_var)\n",
    "# print(\"4.\")\n",
    "# print(\"ALL OTHER NUMERICAL VARIABLES:\")\n",
    "# print(non_occupation_vars)"
   ]
  },
  {
   "cell_type": "markdown",
   "id": "f6aaec40",
   "metadata": {},
   "source": [
    "Interpretation:\n",
    "From these stepAIC-selected inference-set model results, we conclude that the chosen factors indeed have a significant association with the response variable sleep duration.\n",
    "\n",
    "We use the common threshold of p<0.05 to assess significance.\n",
    "\n",
    "NOTE: THE SIGNIFICANCE VALUES FOR THE LEVELS OF THE CATEGORICAL VARIABLE OCCUPATION ARE PRODUCED IN ASSOCIATION WITH THE REFERENCE LEVEL \"ACCOUNTANT\", AND THE VALUES FOR THE OTHER NUMERICAL VARIABLES ARE PRODUCED IN ASSOCIATION WITH THE RESPONSE VARIABLE.\n",
    "\n",
    "Namely:\n",
    "\n",
    "- Higher values for SleepQuality and PhysicalActivity were found to be associated with longer sleep durations.\n",
    "- Higher values for SystolicPressure and Daily1000Steps were found to be associated with shorter sleep durations.\n",
    "\n",
    "Gender:\n",
    "\n",
    "- Being female as opposed to male (reference level) showed association with longer sleep durations.\n",
    "\n",
    "BMICategory:\n",
    "\n",
    "- The \"Overweight\" category was not significantly different from the \"Normal\" reference group.\n",
    "\n",
    "Sleep Disorder:\n",
    "\n",
    "- This variable was not included in the final model.\n",
    "\n",
    "As for Occupations:\n",
    "\n",
    "During the tidying process, the reference level for Occupation was set to \"Accountant\". Therefore we expect \"OccupationAccountant\" to be absorbed into the reference level (Intercept) row of the stepAIC summary.\n",
    "\n",
    "- Compared to accountants, managers did not show a significant difference in sleep duration (p-value ≥ 0.05).\n",
    "- All other occupations showed a higher sleep duration compared to accountants, and these differences were statistically significant.\n",
    "\n",
    "In terms of inference, the only solid conclusion we can make is that overall, occupation, along with gender, sleep quality, physical activity, systolic pressure, and daily steps, does have a significant association with sleep duration."
   ]
  },
  {
   "cell_type": "markdown",
   "id": "24949d4a",
   "metadata": {},
   "source": [
    "### Second VIF check\n",
    "Here, we run a 2nd VIF check just for a quick comparison:"
   ]
  },
  {
   "cell_type": "code",
   "execution_count": null,
   "id": "6c75da57",
   "metadata": {},
   "outputs": [],
   "source": [
    "# 2ND VIF\n",
    "vif(lm(formula = SleepDuration ~ Gender + Occupation + SleepQuality + \n",
    "      PhysicalActivity + BMICategory + SystolicPressure + Daily1000Steps, \n",
    "      data = sleep_inference))"
   ]
  },
  {
   "cell_type": "markdown",
   "id": "c058a99c",
   "metadata": {},
   "source": [
    "### Interpretation: \n",
    "A big improvement!"
   ]
  },
  {
   "cell_type": "code",
   "execution_count": null,
   "id": "6b719ead",
   "metadata": {},
   "outputs": [],
   "source": [
    "#<<<<<<< REMOTE CELL DELETED >>>>>>>\n",
    "# Main Developer: Edward\n",
    "# 2ND VIF WITH AIC MODEL\n",
    "# vif(aic_model)"
   ]
  },
  {
   "cell_type": "markdown",
   "id": "b257e2f5",
   "metadata": {},
   "source": [
    "# Results Visualization\n",
    "Here we use a visualization of the confidence intervals and means of the estimates, separated by variable:"
   ]
  },
  {
   "cell_type": "code",
   "execution_count": null,
   "id": "a19022d4",
   "metadata": {},
   "outputs": [],
   "source": [
    "# Edward\n",
    "\n",
    "model_results <- tidy(aic_model, conf.int = TRUE) |>\n",
    "  filter(term != \"(Intercept)\") |>\n",
    "  mutate(direction = ifelse(p.value < 0.05,ifelse(estimate>0, \"Positive\", \"Negative\"), \"Neither\"))\n",
    "\n",
    "occupation_vars <- model_results |> filter(grepl(\"^Occupation\", term))\n",
    "sleep_disorder_vars <- model_results |> filter(grepl(\"^SleepDisorder\", term))\n",
    "other_vars <- model_results |>\n",
    "  filter(!grepl(\"^Occupation\", term) & !grepl(\"^SleepDisorder\", term))\n",
    "\n",
    "plot_ci <- function(data, title) {\n",
    "  ggplot(data, aes(x = estimate, y = reorder(term, estimate))) +\n",
    "    geom_point() +\n",
    "    geom_errorbarh(aes(xmin = conf.low, xmax = conf.high), height = 0.2) +\n",
    "    geom_vline(xintercept = 0, linetype = \"dashed\", color = \"red\") +\n",
    "    labs(title = title, x = \"Estimate\", y = \"Predictor\")\n",
    "}\n",
    "\n",
    "plot_ci(occupation_vars, \"Occupation Type Estimates vs. 'Accountant', with 95% CI\")"
   ]
  },
  {
   "cell_type": "markdown",
   "id": "3df420b7",
   "metadata": {},
   "source": [
    "### Interpretation:\n",
    "\n",
    "These graphs have a clean visualization of the significance of each predictor using mean and CI, as well as showing the direction of association, all corresponding to results we have explained above.\n",
    "\n",
    "### FURTHER EXPLAIN VISUALIZATION HERE IF NEEDED. ***"
   ]
  },
  {
   "cell_type": "markdown",
   "id": "b982f766",
   "metadata": {},
   "source": [
    "# Discussion\n",
    "\n",
    "Our analysis explored the relationships between sleep duration and a range of predictors using a linear regression model applied to the Sleep Health and Lifestyle Dataset. The results provide valuable insights into the factors associated with sleep duration, while also highlighting the complexity of sleep health.\n",
    "\n",
    "### Key Findings\n",
    "\n",
    "The model identified several significant associations. SleepQuality and PhysicalActivity were positively linked to sleep duration, suggesting that better sleep quality and higher physical activity levels contribute to longer sleep. In contrast, StressLevel and SystolicPressure showed negative associations, indicating that elevated stress and blood pressure are linked to shorter sleep, aligning with Khan and Aouad (2017) on stress and cardiovascular impacts on sleep.\n",
    "\n",
    "Age had a modest positive association, implying that older individuals tend to sleep longer, very likely due to age-related changes in lifestyle or sleep needs. The negative association with Daily1000Steps was unexpected, as it is also a form of physical activity,  we suspect this unlikely result to be due to multicollinearity, although not handled by stepAIC. Occupation also played a significant role. Professions like OccupationDoctor , OccupationSalesRepresentative , and OccupationLawyer were associated with longer sleep duration compared to the reference group, potentially due to differences in work schedules or socioeconomic factors. However, OccupationManager showed no significant effect, indicating that occupational influences on sleep are not uniform.\n",
    "\n",
    "Interestingly, SleepDisorderPresent was positively associated with sleep duration, a counterintuitive finding. This could reflect compensatory behaviors, such as spending more time in bed to offset poor sleep quality, or it may point to a limitation in the data or model specification.\n",
    "\n",
    "The model’s adjusted R-squared of 0.9043 indicates that it explains a substantial portion of the variability in sleep duration, with a residual standard error of 0.2484 suggesting a good fit. However, residuals ranging from -0.8889 to 0.9432 hint at some unaccounted variability, possibly due to omitted factors like diet or mental health.\n",
    "\n",
    "### Limitations\n",
    "Several limitations temper these findings:\n",
    "- While associations are clear, we cannot determine whether predictors like stress or physical activity directly influence sleep duration. \n",
    "- The sample size (374 observations) is relatively small, potentially limiting the generalizability of results, especially for less-represented occupations or conditions like sleep disorders.\n",
    "- Also, the fact that this dataset is generated might make it not so representative of the actual population. \n",
    "Self-reported measures (if we consider the dataset as a result of random survey), such as sleep quality and stress level, may introduce bias due to subjectivity. \n",
    "- Lastly, the unexpected positive association with sleep disorders gives suspicious results, as it could stem from unmeasured confounders or data artifacts.\n",
    "\n",
    "### Implications and Future Directions\n",
    "These findings underscore the multifaceted nature of sleep health. The positive roles of sleep quality and physical activity suggest that interventions promoting exercise and sleep hygiene could enhance sleep duration. Conversely, the negative effects of stress and systolic pressure highlight the need for stress management and cardiovascular health strategies in sleep interventions. Occupation-specific differences suggest that workplace wellness programs could be tailored to support sleep health, particularly in high-stress roles.\n",
    "\n",
    "In conclusion, this analysis reveals significant associations between sleep duration and a range of lifestyle and health-related factors. While the model offers robust explanatory power, its cross-sectional design and reliance on self-reported data call for cautious interpretation. Future research could leverage longitudinal data, objective measures (e.g., actigraphy for sleep, wearable devices for activity), and additional variables (e.g., diet, mental health) to strengthen these findings. Exploring interactions between factors, such as stress and physical activity, could further illuminate their combined effects on sleep. These steps would enhance our understanding of sleep health and inform targeted strategies to improve well-being."
   ]
  },
  {
   "cell_type": "markdown",
   "id": "ef78f177",
   "metadata": {},
   "source": [
    "### extra diagnostics"
   ]
  },
  {
   "cell_type": "code",
   "execution_count": null,
   "id": "03f61ae0",
   "metadata": {},
   "outputs": [],
   "source": [
    "#plot(aic_model)"
   ]
  },
  {
   "cell_type": "markdown",
   "id": "1681c97e",
   "metadata": {},
   "source": [
    "# 4. References:\n",
    "\n",
    "Grandner, M. A. (2017). Sleep, health, and society. Sleep Medicine Clinics, 12(1), 1–22. https://doi.org/10.1016/j.jsmc.2016.10.012\n",
    "\n",
    "Khan, M. S., & Aouad, R. (2017). The effects of insomnia and sleep loss on cardiovascular disease. Sleep Medicine Clinics, 12(2), 167–177. https://doi.org/10.1016/j.jsmc.2017.01.005\n",
    "\n",
    "Medic, G., Wille, M., & Hemels, M. E. (2017). Short- and long-term health consequences of sleep disruption. Nature and Science of Sleep, 9, 151–161. https://doi.org/10.2147/NSS.S134864"
   ]
  },
  {
   "cell_type": "code",
   "execution_count": null,
   "id": "bfbb6472",
   "metadata": {},
   "outputs": [],
   "source": []
  },
  {
   "cell_type": "code",
   "execution_count": null,
   "id": "324c070f",
   "metadata": {},
   "outputs": [],
   "source": []
  },
  {
   "cell_type": "code",
   "execution_count": null,
   "id": "1a1d63a7",
   "metadata": {},
   "outputs": [],
   "source": []
  },
  {
   "cell_type": "code",
   "execution_count": null,
   "id": "4b13fbd9",
   "metadata": {},
   "outputs": [],
   "source": []
  }
 ],
 "metadata": {
  "kernelspec": {
   "display_name": "R",
   "language": "R",
   "name": "ir"
  },
  "language_info": {
   "codemirror_mode": "r",
   "file_extension": ".r",
   "mimetype": "text/x-r-source",
   "name": "R",
   "pygments_lexer": "r",
   "version": "4.3.3"
  }
 },
 "nbformat": 4,
 "nbformat_minor": 5
}
